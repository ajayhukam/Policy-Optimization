{
  "nbformat": 4,
  "nbformat_minor": 0,
  "metadata": {
    "colab": {
      "provenance": [],
      "gpuType": "T4"
    },
    "kernelspec": {
      "name": "python3",
      "display_name": "Python 3"
    },
    "language_info": {
      "name": "python"
    },
    "accelerator": "GPU"
  },
  "cells": [
    {
      "cell_type": "markdown",
      "source": [
        "**Installing Requirements**"
      ],
      "metadata": {
        "id": "p80vr3xQg9Gc"
      }
    },
    {
      "cell_type": "code",
      "source": [
        "!pip install d3rlpy"
      ],
      "metadata": {
        "colab": {
          "base_uri": "https://localhost:8080/"
        },
        "id": "ZSP2tCGWKqUC",
        "outputId": "261efcc0-b75a-40f7-d25f-451dac947aa9"
      },
      "execution_count": 2,
      "outputs": [
        {
          "output_type": "stream",
          "name": "stdout",
          "text": [
            "Requirement already satisfied: d3rlpy in /usr/local/lib/python3.12/dist-packages (2.8.1)\n",
            "Requirement already satisfied: torch>=2.5.0 in /usr/local/lib/python3.12/dist-packages (from d3rlpy) (2.8.0+cu126)\n",
            "Requirement already satisfied: tqdm>=4.66.3 in /usr/local/lib/python3.12/dist-packages (from d3rlpy) (4.67.1)\n",
            "Requirement already satisfied: h5py in /usr/local/lib/python3.12/dist-packages (from d3rlpy) (3.15.1)\n",
            "Requirement already satisfied: gym>=0.26.0 in /usr/local/lib/python3.12/dist-packages (from d3rlpy) (0.26.2)\n",
            "Requirement already satisfied: click in /usr/local/lib/python3.12/dist-packages (from d3rlpy) (8.3.0)\n",
            "Requirement already satisfied: typing-extensions in /usr/local/lib/python3.12/dist-packages (from d3rlpy) (4.15.0)\n",
            "Requirement already satisfied: structlog in /usr/local/lib/python3.12/dist-packages (from d3rlpy) (25.5.0)\n",
            "Requirement already satisfied: colorama in /usr/local/lib/python3.12/dist-packages (from d3rlpy) (0.4.6)\n",
            "Requirement already satisfied: dataclasses-json in /usr/local/lib/python3.12/dist-packages (from d3rlpy) (0.6.7)\n",
            "Requirement already satisfied: gymnasium==1.0.0 in /usr/local/lib/python3.12/dist-packages (from d3rlpy) (1.0.0)\n",
            "Requirement already satisfied: scikit-learn in /usr/local/lib/python3.12/dist-packages (from d3rlpy) (1.6.1)\n",
            "Requirement already satisfied: numpy>=1.21.0 in /usr/local/lib/python3.12/dist-packages (from gymnasium==1.0.0->d3rlpy) (2.0.2)\n",
            "Requirement already satisfied: cloudpickle>=1.2.0 in /usr/local/lib/python3.12/dist-packages (from gymnasium==1.0.0->d3rlpy) (3.1.1)\n",
            "Requirement already satisfied: farama-notifications>=0.0.1 in /usr/local/lib/python3.12/dist-packages (from gymnasium==1.0.0->d3rlpy) (0.0.4)\n",
            "Requirement already satisfied: gym_notices>=0.0.4 in /usr/local/lib/python3.12/dist-packages (from gym>=0.26.0->d3rlpy) (0.1.0)\n",
            "Requirement already satisfied: filelock in /usr/local/lib/python3.12/dist-packages (from torch>=2.5.0->d3rlpy) (3.20.0)\n",
            "Requirement already satisfied: setuptools in /usr/local/lib/python3.12/dist-packages (from torch>=2.5.0->d3rlpy) (75.2.0)\n",
            "Requirement already satisfied: sympy>=1.13.3 in /usr/local/lib/python3.12/dist-packages (from torch>=2.5.0->d3rlpy) (1.13.3)\n",
            "Requirement already satisfied: networkx in /usr/local/lib/python3.12/dist-packages (from torch>=2.5.0->d3rlpy) (3.5)\n",
            "Requirement already satisfied: jinja2 in /usr/local/lib/python3.12/dist-packages (from torch>=2.5.0->d3rlpy) (3.1.6)\n",
            "Requirement already satisfied: fsspec in /usr/local/lib/python3.12/dist-packages (from torch>=2.5.0->d3rlpy) (2025.3.0)\n",
            "Requirement already satisfied: nvidia-cuda-nvrtc-cu12==12.6.77 in /usr/local/lib/python3.12/dist-packages (from torch>=2.5.0->d3rlpy) (12.6.77)\n",
            "Requirement already satisfied: nvidia-cuda-runtime-cu12==12.6.77 in /usr/local/lib/python3.12/dist-packages (from torch>=2.5.0->d3rlpy) (12.6.77)\n",
            "Requirement already satisfied: nvidia-cuda-cupti-cu12==12.6.80 in /usr/local/lib/python3.12/dist-packages (from torch>=2.5.0->d3rlpy) (12.6.80)\n",
            "Requirement already satisfied: nvidia-cudnn-cu12==9.10.2.21 in /usr/local/lib/python3.12/dist-packages (from torch>=2.5.0->d3rlpy) (9.10.2.21)\n",
            "Requirement already satisfied: nvidia-cublas-cu12==12.6.4.1 in /usr/local/lib/python3.12/dist-packages (from torch>=2.5.0->d3rlpy) (12.6.4.1)\n",
            "Requirement already satisfied: nvidia-cufft-cu12==11.3.0.4 in /usr/local/lib/python3.12/dist-packages (from torch>=2.5.0->d3rlpy) (11.3.0.4)\n",
            "Requirement already satisfied: nvidia-curand-cu12==10.3.7.77 in /usr/local/lib/python3.12/dist-packages (from torch>=2.5.0->d3rlpy) (10.3.7.77)\n",
            "Requirement already satisfied: nvidia-cusolver-cu12==11.7.1.2 in /usr/local/lib/python3.12/dist-packages (from torch>=2.5.0->d3rlpy) (11.7.1.2)\n",
            "Requirement already satisfied: nvidia-cusparse-cu12==12.5.4.2 in /usr/local/lib/python3.12/dist-packages (from torch>=2.5.0->d3rlpy) (12.5.4.2)\n",
            "Requirement already satisfied: nvidia-cusparselt-cu12==0.7.1 in /usr/local/lib/python3.12/dist-packages (from torch>=2.5.0->d3rlpy) (0.7.1)\n",
            "Requirement already satisfied: nvidia-nccl-cu12==2.27.3 in /usr/local/lib/python3.12/dist-packages (from torch>=2.5.0->d3rlpy) (2.27.3)\n",
            "Requirement already satisfied: nvidia-nvtx-cu12==12.6.77 in /usr/local/lib/python3.12/dist-packages (from torch>=2.5.0->d3rlpy) (12.6.77)\n",
            "Requirement already satisfied: nvidia-nvjitlink-cu12==12.6.85 in /usr/local/lib/python3.12/dist-packages (from torch>=2.5.0->d3rlpy) (12.6.85)\n",
            "Requirement already satisfied: nvidia-cufile-cu12==1.11.1.6 in /usr/local/lib/python3.12/dist-packages (from torch>=2.5.0->d3rlpy) (1.11.1.6)\n",
            "Requirement already satisfied: triton==3.4.0 in /usr/local/lib/python3.12/dist-packages (from torch>=2.5.0->d3rlpy) (3.4.0)\n",
            "Requirement already satisfied: marshmallow<4.0.0,>=3.18.0 in /usr/local/lib/python3.12/dist-packages (from dataclasses-json->d3rlpy) (3.26.1)\n",
            "Requirement already satisfied: typing-inspect<1,>=0.4.0 in /usr/local/lib/python3.12/dist-packages (from dataclasses-json->d3rlpy) (0.9.0)\n",
            "Requirement already satisfied: scipy>=1.6.0 in /usr/local/lib/python3.12/dist-packages (from scikit-learn->d3rlpy) (1.16.2)\n",
            "Requirement already satisfied: joblib>=1.2.0 in /usr/local/lib/python3.12/dist-packages (from scikit-learn->d3rlpy) (1.5.2)\n",
            "Requirement already satisfied: threadpoolctl>=3.1.0 in /usr/local/lib/python3.12/dist-packages (from scikit-learn->d3rlpy) (3.6.0)\n",
            "Requirement already satisfied: packaging>=17.0 in /usr/local/lib/python3.12/dist-packages (from marshmallow<4.0.0,>=3.18.0->dataclasses-json->d3rlpy) (25.0)\n",
            "Requirement already satisfied: mpmath<1.4,>=1.1.0 in /usr/local/lib/python3.12/dist-packages (from sympy>=1.13.3->torch>=2.5.0->d3rlpy) (1.3.0)\n",
            "Requirement already satisfied: mypy-extensions>=0.3.0 in /usr/local/lib/python3.12/dist-packages (from typing-inspect<1,>=0.4.0->dataclasses-json->d3rlpy) (1.1.0)\n",
            "Requirement already satisfied: MarkupSafe>=2.0 in /usr/local/lib/python3.12/dist-packages (from jinja2->torch>=2.5.0->d3rlpy) (3.0.3)\n"
          ]
        }
      ]
    },
    {
      "cell_type": "code",
      "execution_count": 3,
      "metadata": {
        "colab": {
          "base_uri": "https://localhost:8080/"
        },
        "id": "6UIE9ZBH4_Ad",
        "outputId": "c0c34ebb-eab4-4c4d-92de-13577b2a9d87"
      },
      "outputs": [
        {
          "output_type": "stream",
          "name": "stderr",
          "text": [
            "Gym has been unmaintained since 2022 and does not support NumPy 2.0 amongst other critical functionality.\n",
            "Please upgrade to Gymnasium, the maintained drop-in replacement of Gym, or contact the authors of your software and request that they upgrade.\n",
            "Users of this version of Gym should be able to simply replace 'import gym' with 'import gymnasium as gym' in the vast majority of cases.\n",
            "See the migration guide at https://gymnasium.farama.org/introduction/migration_guide/ for additional information.\n"
          ]
        },
        {
          "output_type": "execute_result",
          "data": {
            "text/plain": [
              "<torch._C.Generator at 0x7e575c324c70>"
            ]
          },
          "metadata": {},
          "execution_count": 3
        }
      ],
      "source": [
        "\n",
        "import os\n",
        "import numpy as np\n",
        "import pandas as pd\n",
        "import matplotlib.pyplot as plt\n",
        "import seaborn as sns\n",
        "from tqdm import tqdm\n",
        "import gym\n",
        "\n",
        "from sklearn.model_selection import train_test_split\n",
        "from sklearn.compose import ColumnTransformer\n",
        "from sklearn.preprocessing import OneHotEncoder, StandardScaler\n",
        "from sklearn.impute import SimpleImputer\n",
        "from sklearn.metrics import roc_auc_score, f1_score, classification_report, roc_curve, auc\n",
        "\n",
        "import torch\n",
        "import torch.nn as nn\n",
        "from torch.utils.data import TensorDataset, DataLoader\n",
        "\n",
        "from d3rlpy.algos import CQL\n",
        "from d3rlpy.datasets import MDPDataset\n",
        "\n",
        "SEED = 42\n",
        "np.random.seed(SEED)\n",
        "torch.manual_seed(SEED)\n"
      ]
    },
    {
      "cell_type": "markdown",
      "source": [
        "**Load dataset (focused columns) & initial filtering — Task 1**"
      ],
      "metadata": {
        "id": "uiZSC6GIhJhM"
      }
    },
    {
      "cell_type": "code",
      "source": [
        "DATA_PATH = \"/content/accepted_2007_to_2018Q4.csv\"\n",
        "SAMPLE_FRAC = 0.25\n",
        "USECOLS = [\n",
        "    'loan_amnt', 'term', 'int_rate', 'grade', 'sub_grade',\n",
        "    'emp_length', 'home_ownership', 'annual_inc', 'verification_status',\n",
        "    'purpose', 'addr_state', 'dti', 'delinq_2yrs', 'revol_util',\n",
        "    'total_acc', 'open_acc', 'pub_rec', 'loan_status'\n",
        "]\n",
        "\n",
        "print(\"Reading CSV\")\n",
        "df = pd.read_csv(DATA_PATH, usecols=USECOLS, low_memory=False)\n",
        "print(\"Original rows:\", len(df))\n",
        "if SAMPLE_FRAC < 1.0:\n",
        "    df = df.sample(frac=SAMPLE_FRAC, random_state=SEED).reset_index(drop=True)\n",
        "    print(\"After sampling rows:\", len(df))\n",
        "\n",
        "good_status = ['Fully Paid', 'Charged Off']\n",
        "df = df[df['loan_status'].isin(good_status)].copy()\n",
        "print(\"After status filtering (Fully Paid / Charged Off):\", len(df))\n",
        "\n",
        "display(df.head())\n",
        "display(df['loan_status'].value_counts())\n"
      ],
      "metadata": {
        "colab": {
          "base_uri": "https://localhost:8080/",
          "height": 543
        },
        "id": "zfxn20Qg7CcO",
        "outputId": "e00050ec-f159-411b-8052-801d54866194"
      },
      "execution_count": 4,
      "outputs": [
        {
          "output_type": "stream",
          "name": "stdout",
          "text": [
            "Reading CSV\n",
            "Original rows: 99199\n",
            "After sampling rows: 24800\n",
            "After status filtering (Fully Paid / Charged Off): 21816\n"
          ]
        },
        {
          "output_type": "display_data",
          "data": {
            "text/plain": [
              "   loan_amnt        term  int_rate grade sub_grade emp_length home_ownership  \\\n",
              "0     5000.0   36 months     13.67     C        C4        NaN           RENT   \n",
              "1    35000.0   36 months     13.99     C        C4   < 1 year       MORTGAGE   \n",
              "2    14000.0   36 months      6.24     A        A2  10+ years           RENT   \n",
              "3    25000.0   36 months      7.89     A        A5    8 years       MORTGAGE   \n",
              "4    12000.0   36 months     13.18     C        C3    7 years           RENT   \n",
              "\n",
              "   annual_inc verification_status  loan_status             purpose addr_state  \\\n",
              "0     36600.0            Verified  Charged Off  debt_consolidation         MD   \n",
              "1    275000.0            Verified  Charged Off    home_improvement         VA   \n",
              "2     82000.0     Source Verified   Fully Paid         credit_card         CA   \n",
              "3     80000.0        Not Verified   Fully Paid  debt_consolidation         CA   \n",
              "4     34000.0            Verified   Fully Paid  debt_consolidation         GA   \n",
              "\n",
              "     dti  delinq_2yrs  open_acc  pub_rec  revol_util  total_acc  \n",
              "0  19.55          0.0      12.0      0.0        19.4       19.0  \n",
              "1  23.76          0.0      20.0      0.0        56.6       33.0  \n",
              "2  21.33          1.0      12.0      0.0        38.4       27.0  \n",
              "3  15.64          0.0      19.0      0.0        21.2       32.0  \n",
              "4  11.12          0.0       5.0      0.0        87.9       10.0  "
            ],
            "text/html": [
              "\n",
              "  <div id=\"df-101b9687-466b-4ba8-8e34-6e63c564c92c\" class=\"colab-df-container\">\n",
              "    <div>\n",
              "<style scoped>\n",
              "    .dataframe tbody tr th:only-of-type {\n",
              "        vertical-align: middle;\n",
              "    }\n",
              "\n",
              "    .dataframe tbody tr th {\n",
              "        vertical-align: top;\n",
              "    }\n",
              "\n",
              "    .dataframe thead th {\n",
              "        text-align: right;\n",
              "    }\n",
              "</style>\n",
              "<table border=\"1\" class=\"dataframe\">\n",
              "  <thead>\n",
              "    <tr style=\"text-align: right;\">\n",
              "      <th></th>\n",
              "      <th>loan_amnt</th>\n",
              "      <th>term</th>\n",
              "      <th>int_rate</th>\n",
              "      <th>grade</th>\n",
              "      <th>sub_grade</th>\n",
              "      <th>emp_length</th>\n",
              "      <th>home_ownership</th>\n",
              "      <th>annual_inc</th>\n",
              "      <th>verification_status</th>\n",
              "      <th>loan_status</th>\n",
              "      <th>purpose</th>\n",
              "      <th>addr_state</th>\n",
              "      <th>dti</th>\n",
              "      <th>delinq_2yrs</th>\n",
              "      <th>open_acc</th>\n",
              "      <th>pub_rec</th>\n",
              "      <th>revol_util</th>\n",
              "      <th>total_acc</th>\n",
              "    </tr>\n",
              "  </thead>\n",
              "  <tbody>\n",
              "    <tr>\n",
              "      <th>0</th>\n",
              "      <td>5000.0</td>\n",
              "      <td>36 months</td>\n",
              "      <td>13.67</td>\n",
              "      <td>C</td>\n",
              "      <td>C4</td>\n",
              "      <td>NaN</td>\n",
              "      <td>RENT</td>\n",
              "      <td>36600.0</td>\n",
              "      <td>Verified</td>\n",
              "      <td>Charged Off</td>\n",
              "      <td>debt_consolidation</td>\n",
              "      <td>MD</td>\n",
              "      <td>19.55</td>\n",
              "      <td>0.0</td>\n",
              "      <td>12.0</td>\n",
              "      <td>0.0</td>\n",
              "      <td>19.4</td>\n",
              "      <td>19.0</td>\n",
              "    </tr>\n",
              "    <tr>\n",
              "      <th>1</th>\n",
              "      <td>35000.0</td>\n",
              "      <td>36 months</td>\n",
              "      <td>13.99</td>\n",
              "      <td>C</td>\n",
              "      <td>C4</td>\n",
              "      <td>&lt; 1 year</td>\n",
              "      <td>MORTGAGE</td>\n",
              "      <td>275000.0</td>\n",
              "      <td>Verified</td>\n",
              "      <td>Charged Off</td>\n",
              "      <td>home_improvement</td>\n",
              "      <td>VA</td>\n",
              "      <td>23.76</td>\n",
              "      <td>0.0</td>\n",
              "      <td>20.0</td>\n",
              "      <td>0.0</td>\n",
              "      <td>56.6</td>\n",
              "      <td>33.0</td>\n",
              "    </tr>\n",
              "    <tr>\n",
              "      <th>2</th>\n",
              "      <td>14000.0</td>\n",
              "      <td>36 months</td>\n",
              "      <td>6.24</td>\n",
              "      <td>A</td>\n",
              "      <td>A2</td>\n",
              "      <td>10+ years</td>\n",
              "      <td>RENT</td>\n",
              "      <td>82000.0</td>\n",
              "      <td>Source Verified</td>\n",
              "      <td>Fully Paid</td>\n",
              "      <td>credit_card</td>\n",
              "      <td>CA</td>\n",
              "      <td>21.33</td>\n",
              "      <td>1.0</td>\n",
              "      <td>12.0</td>\n",
              "      <td>0.0</td>\n",
              "      <td>38.4</td>\n",
              "      <td>27.0</td>\n",
              "    </tr>\n",
              "    <tr>\n",
              "      <th>3</th>\n",
              "      <td>25000.0</td>\n",
              "      <td>36 months</td>\n",
              "      <td>7.89</td>\n",
              "      <td>A</td>\n",
              "      <td>A5</td>\n",
              "      <td>8 years</td>\n",
              "      <td>MORTGAGE</td>\n",
              "      <td>80000.0</td>\n",
              "      <td>Not Verified</td>\n",
              "      <td>Fully Paid</td>\n",
              "      <td>debt_consolidation</td>\n",
              "      <td>CA</td>\n",
              "      <td>15.64</td>\n",
              "      <td>0.0</td>\n",
              "      <td>19.0</td>\n",
              "      <td>0.0</td>\n",
              "      <td>21.2</td>\n",
              "      <td>32.0</td>\n",
              "    </tr>\n",
              "    <tr>\n",
              "      <th>4</th>\n",
              "      <td>12000.0</td>\n",
              "      <td>36 months</td>\n",
              "      <td>13.18</td>\n",
              "      <td>C</td>\n",
              "      <td>C3</td>\n",
              "      <td>7 years</td>\n",
              "      <td>RENT</td>\n",
              "      <td>34000.0</td>\n",
              "      <td>Verified</td>\n",
              "      <td>Fully Paid</td>\n",
              "      <td>debt_consolidation</td>\n",
              "      <td>GA</td>\n",
              "      <td>11.12</td>\n",
              "      <td>0.0</td>\n",
              "      <td>5.0</td>\n",
              "      <td>0.0</td>\n",
              "      <td>87.9</td>\n",
              "      <td>10.0</td>\n",
              "    </tr>\n",
              "  </tbody>\n",
              "</table>\n",
              "</div>\n",
              "    <div class=\"colab-df-buttons\">\n",
              "\n",
              "  <div class=\"colab-df-container\">\n",
              "    <button class=\"colab-df-convert\" onclick=\"convertToInteractive('df-101b9687-466b-4ba8-8e34-6e63c564c92c')\"\n",
              "            title=\"Convert this dataframe to an interactive table.\"\n",
              "            style=\"display:none;\">\n",
              "\n",
              "  <svg xmlns=\"http://www.w3.org/2000/svg\" height=\"24px\" viewBox=\"0 -960 960 960\">\n",
              "    <path d=\"M120-120v-720h720v720H120Zm60-500h600v-160H180v160Zm220 220h160v-160H400v160Zm0 220h160v-160H400v160ZM180-400h160v-160H180v160Zm440 0h160v-160H620v160ZM180-180h160v-160H180v160Zm440 0h160v-160H620v160Z\"/>\n",
              "  </svg>\n",
              "    </button>\n",
              "\n",
              "  <style>\n",
              "    .colab-df-container {\n",
              "      display:flex;\n",
              "      gap: 12px;\n",
              "    }\n",
              "\n",
              "    .colab-df-convert {\n",
              "      background-color: #E8F0FE;\n",
              "      border: none;\n",
              "      border-radius: 50%;\n",
              "      cursor: pointer;\n",
              "      display: none;\n",
              "      fill: #1967D2;\n",
              "      height: 32px;\n",
              "      padding: 0 0 0 0;\n",
              "      width: 32px;\n",
              "    }\n",
              "\n",
              "    .colab-df-convert:hover {\n",
              "      background-color: #E2EBFA;\n",
              "      box-shadow: 0px 1px 2px rgba(60, 64, 67, 0.3), 0px 1px 3px 1px rgba(60, 64, 67, 0.15);\n",
              "      fill: #174EA6;\n",
              "    }\n",
              "\n",
              "    .colab-df-buttons div {\n",
              "      margin-bottom: 4px;\n",
              "    }\n",
              "\n",
              "    [theme=dark] .colab-df-convert {\n",
              "      background-color: #3B4455;\n",
              "      fill: #D2E3FC;\n",
              "    }\n",
              "\n",
              "    [theme=dark] .colab-df-convert:hover {\n",
              "      background-color: #434B5C;\n",
              "      box-shadow: 0px 1px 3px 1px rgba(0, 0, 0, 0.15);\n",
              "      filter: drop-shadow(0px 1px 2px rgba(0, 0, 0, 0.3));\n",
              "      fill: #FFFFFF;\n",
              "    }\n",
              "  </style>\n",
              "\n",
              "    <script>\n",
              "      const buttonEl =\n",
              "        document.querySelector('#df-101b9687-466b-4ba8-8e34-6e63c564c92c button.colab-df-convert');\n",
              "      buttonEl.style.display =\n",
              "        google.colab.kernel.accessAllowed ? 'block' : 'none';\n",
              "\n",
              "      async function convertToInteractive(key) {\n",
              "        const element = document.querySelector('#df-101b9687-466b-4ba8-8e34-6e63c564c92c');\n",
              "        const dataTable =\n",
              "          await google.colab.kernel.invokeFunction('convertToInteractive',\n",
              "                                                    [key], {});\n",
              "        if (!dataTable) return;\n",
              "\n",
              "        const docLinkHtml = 'Like what you see? Visit the ' +\n",
              "          '<a target=\"_blank\" href=https://colab.research.google.com/notebooks/data_table.ipynb>data table notebook</a>'\n",
              "          + ' to learn more about interactive tables.';\n",
              "        element.innerHTML = '';\n",
              "        dataTable['output_type'] = 'display_data';\n",
              "        await google.colab.output.renderOutput(dataTable, element);\n",
              "        const docLink = document.createElement('div');\n",
              "        docLink.innerHTML = docLinkHtml;\n",
              "        element.appendChild(docLink);\n",
              "      }\n",
              "    </script>\n",
              "  </div>\n",
              "\n",
              "\n",
              "    <div id=\"df-641af379-6ffe-4c98-b868-cf3137d9c4b5\">\n",
              "      <button class=\"colab-df-quickchart\" onclick=\"quickchart('df-641af379-6ffe-4c98-b868-cf3137d9c4b5')\"\n",
              "                title=\"Suggest charts\"\n",
              "                style=\"display:none;\">\n",
              "\n",
              "<svg xmlns=\"http://www.w3.org/2000/svg\" height=\"24px\"viewBox=\"0 0 24 24\"\n",
              "     width=\"24px\">\n",
              "    <g>\n",
              "        <path d=\"M19 3H5c-1.1 0-2 .9-2 2v14c0 1.1.9 2 2 2h14c1.1 0 2-.9 2-2V5c0-1.1-.9-2-2-2zM9 17H7v-7h2v7zm4 0h-2V7h2v10zm4 0h-2v-4h2v4z\"/>\n",
              "    </g>\n",
              "</svg>\n",
              "      </button>\n",
              "\n",
              "<style>\n",
              "  .colab-df-quickchart {\n",
              "      --bg-color: #E8F0FE;\n",
              "      --fill-color: #1967D2;\n",
              "      --hover-bg-color: #E2EBFA;\n",
              "      --hover-fill-color: #174EA6;\n",
              "      --disabled-fill-color: #AAA;\n",
              "      --disabled-bg-color: #DDD;\n",
              "  }\n",
              "\n",
              "  [theme=dark] .colab-df-quickchart {\n",
              "      --bg-color: #3B4455;\n",
              "      --fill-color: #D2E3FC;\n",
              "      --hover-bg-color: #434B5C;\n",
              "      --hover-fill-color: #FFFFFF;\n",
              "      --disabled-bg-color: #3B4455;\n",
              "      --disabled-fill-color: #666;\n",
              "  }\n",
              "\n",
              "  .colab-df-quickchart {\n",
              "    background-color: var(--bg-color);\n",
              "    border: none;\n",
              "    border-radius: 50%;\n",
              "    cursor: pointer;\n",
              "    display: none;\n",
              "    fill: var(--fill-color);\n",
              "    height: 32px;\n",
              "    padding: 0;\n",
              "    width: 32px;\n",
              "  }\n",
              "\n",
              "  .colab-df-quickchart:hover {\n",
              "    background-color: var(--hover-bg-color);\n",
              "    box-shadow: 0 1px 2px rgba(60, 64, 67, 0.3), 0 1px 3px 1px rgba(60, 64, 67, 0.15);\n",
              "    fill: var(--button-hover-fill-color);\n",
              "  }\n",
              "\n",
              "  .colab-df-quickchart-complete:disabled,\n",
              "  .colab-df-quickchart-complete:disabled:hover {\n",
              "    background-color: var(--disabled-bg-color);\n",
              "    fill: var(--disabled-fill-color);\n",
              "    box-shadow: none;\n",
              "  }\n",
              "\n",
              "  .colab-df-spinner {\n",
              "    border: 2px solid var(--fill-color);\n",
              "    border-color: transparent;\n",
              "    border-bottom-color: var(--fill-color);\n",
              "    animation:\n",
              "      spin 1s steps(1) infinite;\n",
              "  }\n",
              "\n",
              "  @keyframes spin {\n",
              "    0% {\n",
              "      border-color: transparent;\n",
              "      border-bottom-color: var(--fill-color);\n",
              "      border-left-color: var(--fill-color);\n",
              "    }\n",
              "    20% {\n",
              "      border-color: transparent;\n",
              "      border-left-color: var(--fill-color);\n",
              "      border-top-color: var(--fill-color);\n",
              "    }\n",
              "    30% {\n",
              "      border-color: transparent;\n",
              "      border-left-color: var(--fill-color);\n",
              "      border-top-color: var(--fill-color);\n",
              "      border-right-color: var(--fill-color);\n",
              "    }\n",
              "    40% {\n",
              "      border-color: transparent;\n",
              "      border-right-color: var(--fill-color);\n",
              "      border-top-color: var(--fill-color);\n",
              "    }\n",
              "    60% {\n",
              "      border-color: transparent;\n",
              "      border-right-color: var(--fill-color);\n",
              "    }\n",
              "    80% {\n",
              "      border-color: transparent;\n",
              "      border-right-color: var(--fill-color);\n",
              "      border-bottom-color: var(--fill-color);\n",
              "    }\n",
              "    90% {\n",
              "      border-color: transparent;\n",
              "      border-bottom-color: var(--fill-color);\n",
              "    }\n",
              "  }\n",
              "</style>\n",
              "\n",
              "      <script>\n",
              "        async function quickchart(key) {\n",
              "          const quickchartButtonEl =\n",
              "            document.querySelector('#' + key + ' button');\n",
              "          quickchartButtonEl.disabled = true;  // To prevent multiple clicks.\n",
              "          quickchartButtonEl.classList.add('colab-df-spinner');\n",
              "          try {\n",
              "            const charts = await google.colab.kernel.invokeFunction(\n",
              "                'suggestCharts', [key], {});\n",
              "          } catch (error) {\n",
              "            console.error('Error during call to suggestCharts:', error);\n",
              "          }\n",
              "          quickchartButtonEl.classList.remove('colab-df-spinner');\n",
              "          quickchartButtonEl.classList.add('colab-df-quickchart-complete');\n",
              "        }\n",
              "        (() => {\n",
              "          let quickchartButtonEl =\n",
              "            document.querySelector('#df-641af379-6ffe-4c98-b868-cf3137d9c4b5 button');\n",
              "          quickchartButtonEl.style.display =\n",
              "            google.colab.kernel.accessAllowed ? 'block' : 'none';\n",
              "        })();\n",
              "      </script>\n",
              "    </div>\n",
              "\n",
              "    </div>\n",
              "  </div>\n"
            ],
            "application/vnd.google.colaboratory.intrinsic+json": {
              "type": "dataframe",
              "summary": "{\n  \"name\": \"display(df['loan_status']\",\n  \"rows\": 5,\n  \"fields\": [\n    {\n      \"column\": \"loan_amnt\",\n      \"properties\": {\n        \"dtype\": \"number\",\n        \"std\": 11819.475453673907,\n        \"min\": 5000.0,\n        \"max\": 35000.0,\n        \"num_unique_values\": 5,\n        \"samples\": [\n          35000.0,\n          12000.0,\n          14000.0\n        ],\n        \"semantic_type\": \"\",\n        \"description\": \"\"\n      }\n    },\n    {\n      \"column\": \"term\",\n      \"properties\": {\n        \"dtype\": \"category\",\n        \"num_unique_values\": 1,\n        \"samples\": [\n          \" 36 months\"\n        ],\n        \"semantic_type\": \"\",\n        \"description\": \"\"\n      }\n    },\n    {\n      \"column\": \"int_rate\",\n      \"properties\": {\n        \"dtype\": \"number\",\n        \"std\": 3.64523387452712,\n        \"min\": 6.24,\n        \"max\": 13.99,\n        \"num_unique_values\": 5,\n        \"samples\": [\n          13.99\n        ],\n        \"semantic_type\": \"\",\n        \"description\": \"\"\n      }\n    },\n    {\n      \"column\": \"grade\",\n      \"properties\": {\n        \"dtype\": \"category\",\n        \"num_unique_values\": 2,\n        \"samples\": [\n          \"A\"\n        ],\n        \"semantic_type\": \"\",\n        \"description\": \"\"\n      }\n    },\n    {\n      \"column\": \"sub_grade\",\n      \"properties\": {\n        \"dtype\": \"string\",\n        \"num_unique_values\": 4,\n        \"samples\": [\n          \"A2\"\n        ],\n        \"semantic_type\": \"\",\n        \"description\": \"\"\n      }\n    },\n    {\n      \"column\": \"emp_length\",\n      \"properties\": {\n        \"dtype\": \"string\",\n        \"num_unique_values\": 4,\n        \"samples\": [\n          \"10+ years\"\n        ],\n        \"semantic_type\": \"\",\n        \"description\": \"\"\n      }\n    },\n    {\n      \"column\": \"home_ownership\",\n      \"properties\": {\n        \"dtype\": \"category\",\n        \"num_unique_values\": 2,\n        \"samples\": [\n          \"MORTGAGE\"\n        ],\n        \"semantic_type\": \"\",\n        \"description\": \"\"\n      }\n    },\n    {\n      \"column\": \"annual_inc\",\n      \"properties\": {\n        \"dtype\": \"number\",\n        \"std\": 99640.61420926709,\n        \"min\": 34000.0,\n        \"max\": 275000.0,\n        \"num_unique_values\": 5,\n        \"samples\": [\n          275000.0\n        ],\n        \"semantic_type\": \"\",\n        \"description\": \"\"\n      }\n    },\n    {\n      \"column\": \"verification_status\",\n      \"properties\": {\n        \"dtype\": \"string\",\n        \"num_unique_values\": 3,\n        \"samples\": [\n          \"Verified\"\n        ],\n        \"semantic_type\": \"\",\n        \"description\": \"\"\n      }\n    },\n    {\n      \"column\": \"loan_status\",\n      \"properties\": {\n        \"dtype\": \"category\",\n        \"num_unique_values\": 2,\n        \"samples\": [\n          \"Fully Paid\"\n        ],\n        \"semantic_type\": \"\",\n        \"description\": \"\"\n      }\n    },\n    {\n      \"column\": \"purpose\",\n      \"properties\": {\n        \"dtype\": \"string\",\n        \"num_unique_values\": 3,\n        \"samples\": [\n          \"debt_consolidation\"\n        ],\n        \"semantic_type\": \"\",\n        \"description\": \"\"\n      }\n    },\n    {\n      \"column\": \"addr_state\",\n      \"properties\": {\n        \"dtype\": \"string\",\n        \"num_unique_values\": 4,\n        \"samples\": [\n          \"VA\"\n        ],\n        \"semantic_type\": \"\",\n        \"description\": \"\"\n      }\n    },\n    {\n      \"column\": \"dti\",\n      \"properties\": {\n        \"dtype\": \"number\",\n        \"std\": 4.979482904880787,\n        \"min\": 11.12,\n        \"max\": 23.76,\n        \"num_unique_values\": 5,\n        \"samples\": [\n          23.76\n        ],\n        \"semantic_type\": \"\",\n        \"description\": \"\"\n      }\n    },\n    {\n      \"column\": \"delinq_2yrs\",\n      \"properties\": {\n        \"dtype\": \"number\",\n        \"std\": 0.44721359549995804,\n        \"min\": 0.0,\n        \"max\": 1.0,\n        \"num_unique_values\": 2,\n        \"samples\": [\n          1.0\n        ],\n        \"semantic_type\": \"\",\n        \"description\": \"\"\n      }\n    },\n    {\n      \"column\": \"open_acc\",\n      \"properties\": {\n        \"dtype\": \"number\",\n        \"std\": 6.107372593840988,\n        \"min\": 5.0,\n        \"max\": 20.0,\n        \"num_unique_values\": 4,\n        \"samples\": [\n          20.0\n        ],\n        \"semantic_type\": \"\",\n        \"description\": \"\"\n      }\n    },\n    {\n      \"column\": \"pub_rec\",\n      \"properties\": {\n        \"dtype\": \"number\",\n        \"std\": 0.0,\n        \"min\": 0.0,\n        \"max\": 0.0,\n        \"num_unique_values\": 1,\n        \"samples\": [\n          0.0\n        ],\n        \"semantic_type\": \"\",\n        \"description\": \"\"\n      }\n    },\n    {\n      \"column\": \"revol_util\",\n      \"properties\": {\n        \"dtype\": \"number\",\n        \"std\": 28.459971890358574,\n        \"min\": 19.4,\n        \"max\": 87.9,\n        \"num_unique_values\": 5,\n        \"samples\": [\n          56.6\n        ],\n        \"semantic_type\": \"\",\n        \"description\": \"\"\n      }\n    },\n    {\n      \"column\": \"total_acc\",\n      \"properties\": {\n        \"dtype\": \"number\",\n        \"std\": 9.67987603226405,\n        \"min\": 10.0,\n        \"max\": 33.0,\n        \"num_unique_values\": 5,\n        \"samples\": [\n          33.0\n        ],\n        \"semantic_type\": \"\",\n        \"description\": \"\"\n      }\n    }\n  ]\n}"
            }
          },
          "metadata": {}
        },
        {
          "output_type": "display_data",
          "data": {
            "text/plain": [
              "loan_status\n",
              "Fully Paid     17320\n",
              "Charged Off     4496\n",
              "Name: count, dtype: int64"
            ],
            "text/html": [
              "<div>\n",
              "<style scoped>\n",
              "    .dataframe tbody tr th:only-of-type {\n",
              "        vertical-align: middle;\n",
              "    }\n",
              "\n",
              "    .dataframe tbody tr th {\n",
              "        vertical-align: top;\n",
              "    }\n",
              "\n",
              "    .dataframe thead th {\n",
              "        text-align: right;\n",
              "    }\n",
              "</style>\n",
              "<table border=\"1\" class=\"dataframe\">\n",
              "  <thead>\n",
              "    <tr style=\"text-align: right;\">\n",
              "      <th></th>\n",
              "      <th>count</th>\n",
              "    </tr>\n",
              "    <tr>\n",
              "      <th>loan_status</th>\n",
              "      <th></th>\n",
              "    </tr>\n",
              "  </thead>\n",
              "  <tbody>\n",
              "    <tr>\n",
              "      <th>Fully Paid</th>\n",
              "      <td>17320</td>\n",
              "    </tr>\n",
              "    <tr>\n",
              "      <th>Charged Off</th>\n",
              "      <td>4496</td>\n",
              "    </tr>\n",
              "  </tbody>\n",
              "</table>\n",
              "</div><br><label><b>dtype:</b> int64</label>"
            ]
          },
          "metadata": {}
        }
      ]
    },
    {
      "cell_type": "markdown",
      "source": [
        "**Target creation & simple EDA**"
      ],
      "metadata": {
        "id": "DbN4CcyDhTVV"
      }
    },
    {
      "cell_type": "code",
      "source": [
        "df['defaulted'] = (df['loan_status'] == 'Charged Off').astype(int)\n",
        "\n",
        "print(df.describe(include='all').T)\n",
        "\n",
        "missing = df.isna().mean().sort_values(ascending=False)\n",
        "print(\"Missing fraction per column:\\n\", missing)\n",
        "\n",
        "plt.figure(figsize=(8,4))\n",
        "sns.boxplot(x='defaulted', y='loan_amnt', data=df)\n",
        "plt.title(\"Loan amount by default status (0:paid,1:charged off)\")\n",
        "plt.show()\n",
        "\n",
        "print(\"Overall default rate:\", df['defaulted'].mean())"
      ],
      "metadata": {
        "colab": {
          "base_uri": "https://localhost:8080/",
          "height": 1000
        },
        "id": "HMOyH-Yt-Qe-",
        "outputId": "5954a208-3469-4555-8f4b-cc4652e5a7de"
      },
      "execution_count": 5,
      "outputs": [
        {
          "output_type": "stream",
          "name": "stdout",
          "text": [
            "                       count unique                 top   freq          mean  \\\n",
            "loan_amnt            21816.0    NaN                 NaN    NaN  14348.879263   \n",
            "term                   21816      2           36 months  16814           NaN   \n",
            "int_rate             21816.0    NaN                 NaN    NaN     11.995293   \n",
            "grade                  21816      7                   B   6959           NaN   \n",
            "sub_grade              21816     35                  B4   1469           NaN   \n",
            "emp_length             20378     11           10+ years   7269           NaN   \n",
            "home_ownership         21816      4            MORTGAGE  10584           NaN   \n",
            "annual_inc           21816.0    NaN                 NaN    NaN  77529.527217   \n",
            "verification_status    21816      3     Source Verified   9331           NaN   \n",
            "loan_status            21816      2          Fully Paid  17320           NaN   \n",
            "purpose                21816     12  debt_consolidation  12385           NaN   \n",
            "addr_state             21816     49                  CA   3090           NaN   \n",
            "dti                  21816.0    NaN                 NaN    NaN     18.948616   \n",
            "delinq_2yrs          21816.0    NaN                 NaN    NaN       0.35396   \n",
            "open_acc             21816.0    NaN                 NaN    NaN     11.783645   \n",
            "pub_rec              21816.0    NaN                 NaN    NaN      0.244454   \n",
            "revol_util           21807.0    NaN                 NaN    NaN     51.733379   \n",
            "total_acc            21816.0    NaN                 NaN    NaN     24.933535   \n",
            "defaulted            21816.0    NaN                 NaN    NaN      0.206087   \n",
            "\n",
            "                              std     min      25%      50%      75%  \\\n",
            "loan_amnt             8557.647597  1000.0   7925.0  12000.0  20000.0   \n",
            "term                          NaN     NaN      NaN      NaN      NaN   \n",
            "int_rate                 4.135421    5.32     9.17    11.53    14.33   \n",
            "grade                         NaN     NaN      NaN      NaN      NaN   \n",
            "sub_grade                     NaN     NaN      NaN      NaN      NaN   \n",
            "emp_length                    NaN     NaN      NaN      NaN      NaN   \n",
            "home_ownership                NaN     NaN      NaN      NaN      NaN   \n",
            "annual_inc           85907.198124  1770.0  46000.0  65000.0  92000.0   \n",
            "verification_status           NaN     NaN      NaN      NaN      NaN   \n",
            "loan_status                   NaN     NaN      NaN      NaN      NaN   \n",
            "purpose                       NaN     NaN      NaN      NaN      NaN   \n",
            "addr_state                    NaN     NaN      NaN      NaN      NaN   \n",
            "dti                     11.026255     0.0    12.23    18.32    25.26   \n",
            "delinq_2yrs               0.93381     0.0      0.0      0.0      0.0   \n",
            "open_acc                 5.680067     1.0      8.0     11.0     15.0   \n",
            "pub_rec                  0.657729     0.0      0.0      0.0      0.0   \n",
            "revol_util              24.070565     0.0     33.7     51.6     69.7   \n",
            "total_acc               12.190342     4.0     16.0     23.0     32.0   \n",
            "defaulted                0.404503     0.0      0.0      0.0      0.0   \n",
            "\n",
            "                           max  \n",
            "loan_amnt              35000.0  \n",
            "term                       NaN  \n",
            "int_rate                 28.99  \n",
            "grade                      NaN  \n",
            "sub_grade                  NaN  \n",
            "emp_length                 NaN  \n",
            "home_ownership             NaN  \n",
            "annual_inc           7000000.0  \n",
            "verification_status        NaN  \n",
            "loan_status                NaN  \n",
            "purpose                    NaN  \n",
            "addr_state                 NaN  \n",
            "dti                      999.0  \n",
            "delinq_2yrs               18.0  \n",
            "open_acc                  67.0  \n",
            "pub_rec                   18.0  \n",
            "revol_util               145.8  \n",
            "total_acc                112.0  \n",
            "defaulted                  1.0  \n",
            "Missing fraction per column:\n",
            " emp_length             0.065915\n",
            "revol_util             0.000413\n",
            "loan_amnt              0.000000\n",
            "int_rate               0.000000\n",
            "term                   0.000000\n",
            "sub_grade              0.000000\n",
            "grade                  0.000000\n",
            "annual_inc             0.000000\n",
            "verification_status    0.000000\n",
            "loan_status            0.000000\n",
            "home_ownership         0.000000\n",
            "purpose                0.000000\n",
            "addr_state             0.000000\n",
            "delinq_2yrs            0.000000\n",
            "dti                    0.000000\n",
            "open_acc               0.000000\n",
            "pub_rec                0.000000\n",
            "total_acc              0.000000\n",
            "defaulted              0.000000\n",
            "dtype: float64\n"
          ]
        },
        {
          "output_type": "display_data",
          "data": {
            "text/plain": [
              "<Figure size 800x400 with 1 Axes>"
            ],
            "image/png": "[encoded data removed]"
          },
          "metadata": {}
        },
        {
          "output_type": "stream",
          "name": "stdout",
          "text": [
            "Overall default rate: 0.2060872753942061\n"
          ]
        }
      ]
    },
    {
      "cell_type": "markdown",
      "source": [
        "**Feature cleaning helpers**"
      ],
      "metadata": {
        "id": "kj6CbjtphanP"
      }
    },
    {
      "cell_type": "code",
      "source": [
        "def parse_term(x):\n",
        "    if pd.isna(x): return np.nan\n",
        "    return int(x.split()[0])\n",
        "\n",
        "def parse_percent_str(x):\n",
        "    if pd.isna(x):\n",
        "        return np.nan\n",
        "    if isinstance(x, str) and '%' in x:\n",
        "        return float(x.strip().replace('%',''))/100.0\n",
        "    try:\n",
        "        return float(x)\n",
        "    except:\n",
        "        return np.nan\n",
        "\n",
        "import re\n",
        "def parse_emp_length(x):\n",
        "    if pd.isna(x): return np.nan\n",
        "    if x.strip() == 'n/a':\n",
        "        return np.nan\n",
        "    if '10+' in x:\n",
        "        return 10\n",
        "    if '< 1' in x:\n",
        "        return 0\n",
        "    m = re.search(r'(\\d+)', x)\n",
        "    return int(m.group(1)) if m else np.nan\n",
        "\n",
        "df['term'] = df['term'].apply(parse_term)\n",
        "df['int_rate'] = df['int_rate'].apply(parse_percent_str)\n",
        "df['revol_util'] = df['revol_util'].apply(parse_percent_str)\n",
        "df['emp_length'] = df['emp_length'].apply(parse_emp_length)\n"
      ],
      "metadata": {
        "id": "B_53KMmgBaW2"
      },
      "execution_count": 6,
      "outputs": []
    },
    {
      "cell_type": "markdown",
      "source": [
        "**Feature selection & preprocessing pipeline**"
      ],
      "metadata": {
        "id": "c5GXmi3VhnA8"
      }
    },
    {
      "cell_type": "code",
      "source": [
        "NUMERIC_COLS = ['loan_amnt','int_rate','annual_inc','dti','revol_util',\n",
        "                'total_acc','open_acc','pub_rec','delinq_2yrs','emp_length']\n",
        "CAT_COLS = ['term','grade','sub_grade','home_ownership','verification_status','purpose','addr_state']\n",
        "\n",
        "for c in NUMERIC_COLS + CAT_COLS:\n",
        "    if c not in df.columns:\n",
        "        print(\"Warning: column missing:\", c)\n",
        "\n",
        "X_df = df[NUMERIC_COLS + CAT_COLS].copy()\n",
        "y = df['defaulted'].values\n",
        "loan_amnt = df['loan_amnt'].values\n",
        "int_rate_decimal = df['int_rate'].values\n",
        "\n",
        "numeric_transformer = Pipeline = None\n",
        "from sklearn.pipeline import Pipeline\n",
        "numeric_transformer = Pipeline([\n",
        "    ('imputer', SimpleImputer(strategy='median')),\n",
        "    ('scaler', StandardScaler())\n",
        "])\n",
        "categorical_transformer = Pipeline([\n",
        "    ('imputer', SimpleImputer(strategy='constant', fill_value='Unknown')),\n",
        "    ('onehot', OneHotEncoder(handle_unknown='ignore', sparse_output=False))\n",
        "])\n",
        "preprocessor = ColumnTransformer([\n",
        "    ('num', numeric_transformer, NUMERIC_COLS),\n",
        "    ('cat', categorical_transformer, CAT_COLS)\n",
        "], remainder='drop')\n",
        "\n",
        "X_train_df, X_test_df, y_train, y_test, loanamnt_train, loanamnt_test, int_rate_train, int_rate_test = \\\n",
        "    train_test_split(X_df, y, loan_amnt, int_rate_decimal, test_size=0.20, stratify=y, random_state=SEED)\n",
        "\n",
        "X_train_df, X_val_df, y_train, y_val, loanamnt_train, loanamnt_val, int_rate_train, int_rate_val = \\\n",
        "    train_test_split(X_train_df, y_train, loanamnt_train, int_rate_train, test_size=0.2, stratify=y_train, random_state=SEED)\n",
        "\n",
        "print(\"Train / Val / Test sizes:\", len(X_train_df), len(X_val_df), len(X_test_df))\n",
        "\n",
        "preprocessor.fit(X_train_df)\n",
        "\n",
        "X_train = preprocessor.transform(X_train_df)\n",
        "X_val = preprocessor.transform(X_val_df)\n",
        "X_test = preprocessor.transform(X_test_df)\n",
        "\n",
        "print(\"Feature matrix shape (train):\", X_train.shape)"
      ],
      "metadata": {
        "colab": {
          "base_uri": "https://localhost:8080/"
        },
        "id": "voaw3CjpBvSu",
        "outputId": "5c19fcca-85ab-4026-b0c9-43908b965370"
      },
      "execution_count": 7,
      "outputs": [
        {
          "output_type": "stream",
          "name": "stdout",
          "text": [
            "Train / Val / Test sizes: 13961 3491 4364\n",
            "Feature matrix shape (train): (13961, 122)\n"
          ]
        }
      ]
    },
    {
      "cell_type": "markdown",
      "source": [
        "**Supervised deep learning model (MLP) — training & evaluation**"
      ],
      "metadata": {
        "id": "RJSyav1YhwNm"
      }
    },
    {
      "cell_type": "code",
      "source": [
        "def make_loader(X, y, batch_size=256, shuffle=True):\n",
        "    X_t = torch.tensor(X, dtype=torch.float32)\n",
        "    y_t = torch.tensor(y.reshape(-1,1), dtype=torch.float32)\n",
        "    ds = TensorDataset(X_t, y_t)\n",
        "    return DataLoader(ds, batch_size=batch_size, shuffle=shuffle)\n",
        "\n",
        "train_loader = make_loader(X_train, y_train, batch_size=512, shuffle=True)\n",
        "val_loader = make_loader(X_val, y_val, batch_size=1024, shuffle=False)\n",
        "\n",
        "class MLPClassifier(nn.Module):\n",
        "    def __init__(self, input_dim, hidden_dims=[128,64,32], dropout=0.2):\n",
        "        super().__init__()\n",
        "        layers = []\n",
        "        prev = input_dim\n",
        "        for h in hidden_dims:\n",
        "            layers.append(nn.Linear(prev, h))\n",
        "            layers.append(nn.ReLU())\n",
        "            layers.append(nn.Dropout(dropout))\n",
        "            prev = h\n",
        "        layers.append(nn.Linear(prev, 1))\n",
        "        self.net = nn.Sequential(*layers)\n",
        "\n",
        "    def forward(self, x):\n",
        "        return self.net(x).squeeze(-1)\n",
        "\n",
        "input_dim = X_train.shape[1]\n",
        "model = MLPClassifier(input_dim, hidden_dims=[256,128,64], dropout=0.2)\n",
        "device = torch.device('cuda' if torch.cuda.is_available() else 'cpu')\n",
        "model.to(device)\n",
        "print(\"Using device:\", device)\n",
        "\n",
        "optimizer = torch.optim.Adam(model.parameters(), lr=1e-3, weight_decay=1e-5)\n",
        "criterion = nn.BCEWithLogitsLoss()\n",
        "\n",
        "EPOCHS = 20\n",
        "best_val_auc = 0.0\n",
        "for epoch in range(1, EPOCHS+1):\n",
        "    model.train()\n",
        "    total_loss = 0.0\n",
        "    for xb, yb in train_loader:\n",
        "        xb = xb.to(device); yb = yb.to(device)\n",
        "        logits = model(xb)\n",
        "        loss = criterion(logits, yb.squeeze(-1))\n",
        "        optimizer.zero_grad()\n",
        "        loss.backward()\n",
        "        optimizer.step()\n",
        "        total_loss += loss.item() * xb.size(0)\n",
        "    avg_train_loss = total_loss / len(train_loader.dataset)\n",
        "\n",
        "    model.eval()\n",
        "    all_logits = []\n",
        "    all_y = []\n",
        "    with torch.no_grad():\n",
        "        for xb, yb in val_loader:\n",
        "            xb = xb.to(device)\n",
        "            logits = model(xb)\n",
        "            all_logits.append(logits.cpu().numpy())\n",
        "            all_y.append(yb.numpy())\n",
        "    all_logits = np.concatenate(all_logits)\n",
        "    all_y = np.concatenate(all_y).reshape(-1)\n",
        "    probs = 1.0 / (1.0 + np.exp(-all_logits))\n",
        "    val_auc = roc_auc_score(all_y, probs)\n",
        "    # F1 at 0.5 threshold\n",
        "    preds = (probs >= 0.5).astype(int)\n",
        "    val_f1 = f1_score(all_y, preds)\n",
        "\n",
        "    print(f\"Epoch {epoch}/{EPOCHS}: train_loss={avg_train_loss:.4f}, val_auc={val_auc:.4f}, val_f1={val_f1:.4f}\")\n",
        "\n",
        "    if val_auc > best_val_auc:\n",
        "        best_val_auc = val_auc\n",
        "        torch.save(model.state_dict(), \"best_mlp.pt\")\n"
      ],
      "metadata": {
        "colab": {
          "base_uri": "https://localhost:8080/"
        },
        "id": "vxu9fwebCOgr",
        "outputId": "617f7fd2-397a-4835-faee-87e7900da41f"
      },
      "execution_count": 8,
      "outputs": [
        {
          "output_type": "stream",
          "name": "stdout",
          "text": [
            "Using device: cuda\n",
            "Epoch 1/20: train_loss=0.5280, val_auc=0.7289, val_f1=0.0000\n",
            "Epoch 2/20: train_loss=0.4524, val_auc=0.7332, val_f1=0.0000\n",
            "Epoch 3/20: train_loss=0.4462, val_auc=0.7345, val_f1=0.0000\n",
            "Epoch 4/20: train_loss=0.4444, val_auc=0.7345, val_f1=0.0000\n",
            "Epoch 5/20: train_loss=0.4405, val_auc=0.7354, val_f1=0.0000\n",
            "Epoch 6/20: train_loss=0.4371, val_auc=0.7344, val_f1=0.2693\n",
            "Epoch 7/20: train_loss=0.4341, val_auc=0.7333, val_f1=0.3002\n",
            "Epoch 8/20: train_loss=0.4301, val_auc=0.7306, val_f1=0.3214\n",
            "Epoch 9/20: train_loss=0.4267, val_auc=0.7301, val_f1=0.2526\n",
            "Epoch 10/20: train_loss=0.4198, val_auc=0.7248, val_f1=0.3126\n",
            "Epoch 11/20: train_loss=0.4145, val_auc=0.7178, val_f1=0.3066\n",
            "Epoch 12/20: train_loss=0.4080, val_auc=0.7223, val_f1=0.2893\n",
            "Epoch 13/20: train_loss=0.4023, val_auc=0.7202, val_f1=0.3333\n",
            "Epoch 14/20: train_loss=0.3932, val_auc=0.7052, val_f1=0.2747\n",
            "Epoch 15/20: train_loss=0.3890, val_auc=0.7080, val_f1=0.3211\n",
            "Epoch 16/20: train_loss=0.3796, val_auc=0.7070, val_f1=0.3231\n",
            "Epoch 17/20: train_loss=0.3729, val_auc=0.7014, val_f1=0.2726\n",
            "Epoch 18/20: train_loss=0.3669, val_auc=0.6933, val_f1=0.3063\n",
            "Epoch 19/20: train_loss=0.3588, val_auc=0.6909, val_f1=0.3190\n",
            "Epoch 20/20: train_loss=0.3498, val_auc=0.6870, val_f1=0.3054\n"
          ]
        }
      ]
    },
    {
      "cell_type": "code",
      "source": [
        "model.load_state_dict(torch.load(\"best_mlp.pt\"))\n",
        "model.eval()\n",
        "\n",
        "test_loader = make_loader(X_test, y_test, batch_size=2048, shuffle=False)\n",
        "all_logits = []\n",
        "all_y = []\n",
        "with torch.no_grad():\n",
        "    for xb, yb in test_loader:\n",
        "        xb = xb.to(device)\n",
        "        logits = model(xb)\n",
        "        all_logits.append(logits.cpu().numpy())\n",
        "        all_y.append(yb.numpy())\n",
        "all_logits = np.concatenate(all_logits)\n",
        "all_y = np.concatenate(all_y).reshape(-1)\n",
        "probs_test = 1.0 / (1.0 + np.exp(-all_logits))\n",
        "preds_test = (probs_test >= 0.5).astype(int)\n",
        "\n",
        "test_auc = roc_auc_score(all_y, probs_test)\n",
        "test_f1 = f1_score(all_y, preds_test)\n",
        "print(\"Supervised MLP Test AUC:\", test_auc)\n",
        "print(\"Supervised MLP Test F1 (0.5 threshold):\", test_f1)\n",
        "print(classification_report(all_y, preds_test, digits=4, zero_division=1))\n"
      ],
      "metadata": {
        "colab": {
          "base_uri": "https://localhost:8080/"
        },
        "id": "rH8A8P39DdeV",
        "outputId": "36dc8c34-d0de-4bbd-fe4b-4b01a0ceca36"
      },
      "execution_count": 9,
      "outputs": [
        {
          "output_type": "stream",
          "name": "stdout",
          "text": [
            "Supervised MLP Test AUC: 0.7446439606617582\n",
            "Supervised MLP Test F1 (0.5 threshold): 0.0\n",
            "              precision    recall  f1-score   support\n",
            "\n",
            "         0.0     0.7940    1.0000    0.8852      3465\n",
            "         1.0     1.0000    0.0000    0.0000       899\n",
            "\n",
            "    accuracy                         0.7940      4364\n",
            "   macro avg     0.8970    0.5000    0.4426      4364\n",
            "weighted avg     0.8364    0.7940    0.7028      4364\n",
            "\n"
          ]
        }
      ]
    },
    {
      "cell_type": "code",
      "source": [
        "from sklearn.metrics import precision_recall_curve, average_precision_score\n",
        "\n",
        "precision, recall, _ = precision_recall_curve(all_y, probs_test)\n",
        "ap_score = average_precision_score(all_y, probs_test)\n",
        "\n",
        "plt.figure(figsize=(7, 6))\n",
        "plt.plot(recall, precision, label=f'PR Curve (AP = {ap_score:.3f})', linewidth=2)\n",
        "plt.xlabel('Recall', fontsize=12)\n",
        "plt.ylabel('Precision', fontsize=12)\n",
        "plt.title('Precision–Recall Curve', fontsize=14)\n",
        "plt.legend()\n",
        "plt.grid(True)\n",
        "plt.show()\n"
      ],
      "metadata": {
        "colab": {
          "base_uri": "https://localhost:8080/",
          "height": 569
        },
        "id": "fJtU1V1LjbaJ",
        "outputId": "e0def608-fdb1-4071-e1d7-534b99ee127e"
      },
      "execution_count": 10,
      "outputs": [
        {
          "output_type": "display_data",
          "data": {
            "text/plain": [
              "<Figure size 700x600 with 1 Axes>"
            ],
            "image/png": "[encoded data removed]"
          },
          "metadata": {}
        }
      ]
    },
    {
      "cell_type": "markdown",
      "source": [
        "**Task 3: Offline RL agent (state/action/reward) + training (CQL)**"
      ],
      "metadata": {
        "id": "sikNjVVxh6V-"
      }
    },
    {
      "cell_type": "code",
      "source": [
        "def compute_rewards(loan_amounts, int_rates, defaults):\n",
        "    rewards = np.where(defaults == 0, loan_amounts * int_rates, -loan_amounts)\n",
        "    return rewards.astype(np.float32)\n",
        "\n",
        "rewards_train = compute_rewards(loanamnt_train, int_rate_train, y_train)\n",
        "rewards_val = compute_rewards(loanamnt_val, int_rate_val, y_val)\n",
        "rewards_test = compute_rewards(loanamnt_test, int_rate_test, y_test)\n",
        "\n",
        "print(\"Example rewards (train):\", rewards_train[:6])\n"
      ],
      "metadata": {
        "colab": {
          "base_uri": "https://localhost:8080/"
        },
        "id": "QO-iBZABDzXw",
        "outputId": "28f4c4b7-90e2-4989-9b14-8f09d7a58c8a"
      },
      "execution_count": 11,
      "outputs": [
        {
          "output_type": "stream",
          "name": "stdout",
          "text": [
            "Example rewards (train): [150840. -23050.  34590.  79920. 339800.  93632.]\n"
          ]
        }
      ]
    },
    {
      "cell_type": "markdown",
      "source": [
        "**Create MDP Dataset for d3rlpy**"
      ],
      "metadata": {
        "id": "x4RnL3T5iFmX"
      }
    },
    {
      "cell_type": "code",
      "source": [
        "def make_offline_dataset(X_array, rewards_array):\n",
        "    n = X_array.shape[0]\n",
        "\n",
        "    obs_approve = X_array.astype(np.float32)\n",
        "    acts_approve = np.ones((n,), dtype=np.int32)\n",
        "    rewards_approve = rewards_array.astype(np.float32)\n",
        "    terms_approve = np.ones((n,), dtype=bool)\n",
        "\n",
        "    obs_deny = X_array.astype(np.float32)\n",
        "    acts_deny = np.zeros((n,), dtype=np.int32)\n",
        "    rewards_deny = np.zeros((n,), dtype=np.float32)\n",
        "    terms_deny = np.ones((n,), dtype=bool)\n",
        "\n",
        "    obs = np.vstack([obs_approve, obs_deny])\n",
        "    acts = np.concatenate([acts_approve, acts_deny])\n",
        "    rewards = np.concatenate([rewards_approve, rewards_deny])\n",
        "    terms = np.concatenate([terms_approve, terms_deny])\n",
        "    return obs, acts, rewards, terms\n",
        "\n",
        "obs_train, acts_train, rew_train, terms_train = make_offline_dataset(X_train, rewards_train)\n",
        "obs_val, acts_val, rew_val, terms_val = make_offline_dataset(X_val, rewards_val)\n",
        "obs_test, acts_test, rew_test, terms_test = make_offline_dataset(X_test, rewards_test)\n",
        "\n",
        "print(\"Offline dataset sizes (train obs):\", obs_train.shape, acts_train.shape, rew_train.shape)\n"
      ],
      "metadata": {
        "colab": {
          "base_uri": "https://localhost:8080/"
        },
        "id": "8V_dB3fcEu8G",
        "outputId": "e79c08fd-94f4-4635-a76e-00c4d3dae81b"
      },
      "execution_count": 12,
      "outputs": [
        {
          "output_type": "stream",
          "name": "stdout",
          "text": [
            "Offline dataset sizes (train obs): (27922, 122) (27922,) (27922,)\n"
          ]
        }
      ]
    },
    {
      "cell_type": "code",
      "source": [
        "obs_rl = np.vstack([obs_train, obs_val])\n",
        "acts_rl = np.concatenate([acts_train, acts_val])\n",
        "rews_rl = np.concatenate([rew_train, rew_val])\n",
        "terms_rl = np.concatenate([terms_train, terms_val])\n",
        "\n",
        "mdp_dataset = MDPDataset(observations=obs_rl, actions=acts_rl, rewards=rews_rl, terminals=terms_rl)\n",
        "print(\"MDPDataset created. Num transitions:\", len(obs_rl))\n"
      ],
      "metadata": {
        "colab": {
          "base_uri": "https://localhost:8080/"
        },
        "id": "My8AsGNWE1MA",
        "outputId": "141db6b8-fb6f-42f8-d5d5-fd7883af6048"
      },
      "execution_count": 13,
      "outputs": [
        {
          "output_type": "stream",
          "name": "stdout",
          "text": [
            "\u001b[2m2025-10-30 12:57.08\u001b[0m [\u001b[32m\u001b[1minfo     \u001b[0m] \u001b[1mSignatures have been automatically determined.\u001b[0m \u001b[36maction_signature\u001b[0m=\u001b[35mSignature(dtype=[dtype('int32')], shape=[(1,)])\u001b[0m \u001b[36mobservation_signature\u001b[0m=\u001b[35mSignature(dtype=[dtype('float32')], shape=[(122,)])\u001b[0m \u001b[36mreward_signature\u001b[0m=\u001b[35mSignature(dtype=[dtype('float32')], shape=[(1,)])\u001b[0m\n",
            "\u001b[2m2025-10-30 12:57.08\u001b[0m [\u001b[32m\u001b[1minfo     \u001b[0m] \u001b[1mAction-space has been automatically determined.\u001b[0m \u001b[36maction_space\u001b[0m=\u001b[35m<ActionSpace.DISCRETE: 2>\u001b[0m\n",
            "\u001b[2m2025-10-30 12:57.08\u001b[0m [\u001b[32m\u001b[1minfo     \u001b[0m] \u001b[1mAction size has been automatically determined.\u001b[0m \u001b[36maction_size\u001b[0m=\u001b[35m2\u001b[0m\n",
            "MDPDataset created. Num transitions: 34904\n"
          ]
        }
      ]
    },
    {
      "cell_type": "markdown",
      "source": [
        "**Train a CQL (Conservative Q Learning) agent**"
      ],
      "metadata": {
        "id": "GI9pcTxniLeE"
      }
    },
    {
      "cell_type": "code",
      "source": [
        "from d3rlpy.algos import DiscreteCQLConfig\n",
        "from d3rlpy.models.encoders import VectorEncoderFactory\n",
        "import torch\n",
        "\n",
        "cql_config = DiscreteCQLConfig(\n",
        "    learning_rate=1e-3,\n",
        "    batch_size=256,\n",
        "    encoder_factory=VectorEncoderFactory(hidden_units=[256, 256]),\n",
        ")\n",
        "\n",
        "device = \"cuda\" if torch.cuda.is_available() else \"cpu\"\n",
        "cql = cql_config.create(device=device)\n",
        "\n",
        "cql.fit(\n",
        "    mdp_dataset,\n",
        "    n_steps=100000,\n",
        ")\n",
        "\n",
        "cql.save_model(\"discrete_cql_model\")\n"
      ],
      "metadata": {
        "id": "kfn0OYXUE5Fx",
        "colab": {
          "base_uri": "https://localhost:8080/",
          "height": 791,
          "referenced_widgets": [
            "b5570c51424d4803bb3f505583a71615",
            "186f59541d174f37afbdd443d50df837",
            "2729cb993c064f1db0c94b7866f239cc",
            "074b758845ca49568b2a7237c6a1fba2",
            "a36e8dc53f4c42da9065cec976ffc271",
            "d318e021e84541b581e21359632974f9",
            "acbdcc8f207b48cc849bc3733f9134a4",
            "04cab2e94ea94e32997a48618217d001",
            "d3000322dea0438e82d7ec6bd8603bf8",
            "b0f3abe44cc3446c831ea6a5b4a44950",
            "12848943b8794545afdb2c4245cde1ef",
            "76e790c0b9d4406f8c0053f98931510d",
            "295eafe580af492ab6a31c10ddf2f3eb",
            "6dde289df1b141c9bfb00f1fc2076896",
            "43e3fe9a3d804fcea0ed3cdcbb86281d",
            "bd05518a459c4b609daddfd90f781a84",
            "5653caf1a4b9449eae28773455703736",
            "28dd89e976604353b93e4f1683e1b62f",
            "8c7a50bee88e42978f127cdac90bda30",
            "0cae0bd07e79425c8ac9da5fa209c663",
            "69578b558fe440d081c14b37d49bd2a5",
            "f29cd87fa41945a69c9a940498163080",
            "3da890b3158a4af49115533b1b271a95",
            "32fd031164424a86aecf43d217ea0631",
            "64f88843f8164f1d8636feebc797b472",
            "3e7e88cf37584b8e94f96578e58c4199",
            "e6199c1987c94ce687a5064bee0fa108",
            "f09beaad98f64a48973d3223405fa984",
            "e4f83c7b45f94ff0b79a2aa1be7d3b62",
            "02ee121b38a240a3abcebb56046c2809",
            "111579f89e54445a884be9357f9c9afa",
            "efd35eb78eea4694a78d4f91bd1341e8",
            "d04ed8b7f15a442b8986f468728837c6",
            "b2306888c3d44445bcb502de6ae5c3ff",
            "6086883ec8b94ecfb697d8360da2154f",
            "2d66bd77da1b4ab7a2e5358368501294",
            "d4c8d98b981d4c4fa418c657546f81c6",
            "18b2183f4fb54d66baeae3899d52f52b",
            "e46528287f5b4ddfbded468e9574e29a",
            "57b4e59278be4749aa1587271fafbe2e",
            "5c225311931644fa991d9b47dd00110f",
            "9480e50b65a84615a3b48aa14e1ed443",
            "22b6610d894f4df4bc71a7681ff5a18a",
            "90e587191fbd4df48382ece08d7c1c8a",
            "c04ef7b5ca854c1bb9a9fbfbb8e42804",
            "b5f82bebb57847a98f2c5dfc16ecc34c",
            "02d64e8ca76e41e99e1d06917535e829",
            "ae3f5c1b3734483bb441fb0900ae09ab",
            "58a4cdc8eaca489495029b69a34c2fdb",
            "46fdfddb403043bdba3c3acc25817ddc",
            "d650e6549b734d34bce021e6df740118",
            "d685ca6a51b642fca5777e459263dae9",
            "67a4ea25bb3b4332aced4fd9e2ec7120",
            "6e950aa818d54301b4ebdb051ad3a9ce",
            "ac76d6b5c37444b8853ca6be5ebef8a8",
            "8e777263add24994a9b0d754c3d3610b",
            "e58cddc00f6f4293914329fb0abf332a",
            "2639953600f1493898263e933f4f6f68",
            "122b84c714e4448fa502b83d8d42f1da",
            "9e753c697f75495886ccd2da415b50b3",
            "30facc514f3e4f89bb57227c6c7103be",
            "1374381ab9034bf9a2bde542716dc683",
            "862f48667e6f40a8860efddadf17a397",
            "f60d7859f1ee4b439f3f8c9ad5707867",
            "cd306cae6e674c8caf6c943abe2c0eb7",
            "075feb9524c44f50a8429cffee0ab805",
            "5133e93d88d44a499fafd5a5c8a3d76f",
            "97cf5678aa084d0d87417ee21f08a8ef",
            "2d3ff6a2fb2c4a3b95c4ee149c89bfe9",
            "f8cc0dccd6f34c2fbe839259c016812a",
            "2c74faccd80148c2a61135be93db583e",
            "34c0869af46f44c78484c1b853eeceda",
            "e87f0d069d2f4a92b9b1e366f147a079",
            "e526c7a16abc4665b8c2b91ec4d8c9e2",
            "cdd8862a72ba49439ad8dca782d5e3a3",
            "ea4877ac94b64aaf9f073d97992fb747",
            "32bba5f158034c6f9ce83c62795ac287",
            "e175ae1b98d54b929b078a56069c04a8",
            "209bbffbd2bd4245859c05203b03faad",
            "4b273f1c89514f13a837a4d202976757",
            "b6a610db64614221a73f74624bd01625",
            "fb813687663641778d855c1f77e5ad2e",
            "80f0a19d02034137a7fd0cee040d3c65",
            "0e1dc69ddcee4dfc86ecea2ffa62e43a",
            "4a5e5bfc0e7c45ee87cf5aeef7b02878",
            "350b60a0c90c45bb95bf7a2ddf26e3d5",
            "40667519c7f04b458d92b49a158ac20d",
            "c6ed9be05b034fe7ace2277c68714624",
            "75431c35344b44089776a790d6c3e2c4",
            "9a6b360df43f47cd8d779f881b0b0815",
            "4b882df581614a3398f2a745b29bd68e",
            "9ff4236f9a524640bc1b44842f4544ee",
            "ff28d1fc512340a49021b79aa3b85a67",
            "debe3678796d450293804e2f1333f2a6",
            "03aa6840478843cc99dfb01a3abb28f7",
            "c9afe17af57d4fc8a5fa11da4448a8f4",
            "4481316b7acc42fb8e62366a20fb7880",
            "3ead5b2d73ce4f8bb4661fa3b733a07a",
            "4ba7991b37ab4b92820b7b0d02964d0b",
            "56ff32909ebf4314937d6a3a2ec8fcf4",
            "17b45766084e4b028a63374aced86ab0",
            "e9d65f8f2a534e0cb656a70fcef91a0e",
            "4d8e4d8ea6f646f992ea772a4fb39f71",
            "e5b5bf5c0161495692b423ae83bf038e",
            "51d80076e8d5471fad92824dbf583872",
            "0af2cf6ce96e49b893a65683e2571694",
            "d97eb7b34c2148d8b4e8e09534c1ca04",
            "4de1a24578d64217860a9af7dc5df5f0",
            "6aac65767b2a4ac982114aed434a3774",
            "e92fa970ef7b4ff18363b80231862be7"
          ]
        },
        "outputId": "a658f2ee-287b-4fd8-977c-7c1ffacea1fc"
      },
      "execution_count": 14,
      "outputs": [
        {
          "output_type": "stream",
          "name": "stdout",
          "text": [
            "\u001b[2m2025-10-30 12:57.09\u001b[0m [\u001b[32m\u001b[1minfo     \u001b[0m] \u001b[1mdataset info                  \u001b[0m \u001b[36mdataset_info\u001b[0m=\u001b[35mDatasetInfo(observation_signature=Signature(dtype=[dtype('float32')], shape=[(122,)]), action_signature=Signature(dtype=[dtype('int32')], shape=[(1,)]), reward_signature=Signature(dtype=[dtype('float32')], shape=[(1,)]), action_space=<ActionSpace.DISCRETE: 2>, action_size=2)\u001b[0m\n",
            "\u001b[2m2025-10-30 12:57.09\u001b[0m [\u001b[32m\u001b[1mdebug    \u001b[0m] \u001b[1mBuilding models...            \u001b[0m\n",
            "\u001b[2m2025-10-30 12:57.09\u001b[0m [\u001b[32m\u001b[1mdebug    \u001b[0m] \u001b[1mModels have been built.       \u001b[0m\n",
            "\u001b[2m2025-10-30 12:57.09\u001b[0m [\u001b[32m\u001b[1minfo     \u001b[0m] \u001b[1mDirectory is created at d3rlpy_logs/DiscreteCQL_20251030125709\u001b[0m\n",
            "\u001b[2m2025-10-30 12:57.09\u001b[0m [\u001b[32m\u001b[1minfo     \u001b[0m] \u001b[1mParameters                    \u001b[0m \u001b[36mparams\u001b[0m=\u001b[35m{'observation_shape': [122], 'action_size': 2, 'config': {'type': 'discrete_cql', 'params': {'batch_size': 256, 'gamma': 0.99, 'observation_scaler': {'type': 'none', 'params': {}}, 'action_scaler': {'type': 'none', 'params': {}}, 'reward_scaler': {'type': 'none', 'params': {}}, 'compile_graph': False, 'learning_rate': 0.001, 'optim_factory': {'type': 'adam', 'params': {'clip_grad_norm': None, 'lr_scheduler_factory': {'type': 'none', 'params': {}}, 'betas': [0.9, 0.999], 'eps': 1e-08, 'weight_decay': 0, 'amsgrad': False}}, 'encoder_factory': {'type': 'vector', 'params': {'hidden_units': [256, 256], 'activation': 'relu', 'use_batch_norm': False, 'use_layer_norm': False, 'dropout_rate': None, 'exclude_last_activation': False, 'last_activation': None}}, 'q_func_factory': {'type': 'mean', 'params': {'share_encoder': False}}, 'n_critics': 1, 'target_update_interval': 8000, 'alpha': 1.0}}}\u001b[0m\n"
          ]
        },
        {
          "output_type": "display_data",
          "data": {
            "text/plain": [
              "Epoch 1/10:   0%|          | 0/10000 [00:00<?, ?it/s]"
            ],
            "application/vnd.jupyter.widget-view+json": {
              "version_major": 2,
              "version_minor": 0,
              "model_id": "b5570c51424d4803bb3f505583a71615"
            }
          },
          "metadata": {}
        },
        {
          "output_type": "stream",
          "name": "stdout",
          "text": [
            "\u001b[2m2025-10-30 12:58.56\u001b[0m [\u001b[32m\u001b[1minfo     \u001b[0m] \u001b[1mDiscreteCQL_20251030125709: epoch=1 step=10000\u001b[0m \u001b[36mepoch\u001b[0m=\u001b[35m1\u001b[0m \u001b[36mmetrics\u001b[0m=\u001b[35m{'time_sample_batch': 0.005207742953300476, 'time_algorithm_update': 0.005304570126533508, 'loss': 65459.0570953125, 'td_loss': 65457.34917148438, 'conservative_loss': 1.7079458735883235, 'time_step': 0.010677416968345642}\u001b[0m \u001b[36mstep\u001b[0m=\u001b[35m10000\u001b[0m\n",
            "\u001b[2m2025-10-30 12:58.56\u001b[0m [\u001b[32m\u001b[1minfo     \u001b[0m] \u001b[1mModel parameters are saved to d3rlpy_logs/DiscreteCQL_20251030125709/model_10000.d3\u001b[0m\n"
          ]
        },
        {
          "output_type": "display_data",
          "data": {
            "text/plain": [
              "Epoch 2/10:   0%|          | 0/10000 [00:00<?, ?it/s]"
            ],
            "application/vnd.jupyter.widget-view+json": {
              "version_major": 2,
              "version_minor": 0,
              "model_id": "76e790c0b9d4406f8c0053f98931510d"
            }
          },
          "metadata": {}
        },
        {
          "output_type": "stream",
          "name": "stdout",
          "text": [
            "\u001b[2m2025-10-30 13:00.41\u001b[0m [\u001b[32m\u001b[1minfo     \u001b[0m] \u001b[1mDiscreteCQL_20251030125709: epoch=2 step=20000\u001b[0m \u001b[36mepoch\u001b[0m=\u001b[35m2\u001b[0m \u001b[36mmetrics\u001b[0m=\u001b[35m{'time_sample_batch': 0.005055208802223206, 'time_algorithm_update': 0.0051505965471267704, 'loss': 65457.87328476563, 'td_loss': 65454.69381054687, 'conservative_loss': 3.179468611562252, 'time_step': 0.010372231769561768}\u001b[0m \u001b[36mstep\u001b[0m=\u001b[35m20000\u001b[0m\n",
            "\u001b[2m2025-10-30 13:00.41\u001b[0m [\u001b[32m\u001b[1minfo     \u001b[0m] \u001b[1mModel parameters are saved to d3rlpy_logs/DiscreteCQL_20251030125709/model_20000.d3\u001b[0m\n"
          ]
        },
        {
          "output_type": "display_data",
          "data": {
            "text/plain": [
              "Epoch 3/10:   0%|          | 0/10000 [00:00<?, ?it/s]"
            ],
            "application/vnd.jupyter.widget-view+json": {
              "version_major": 2,
              "version_minor": 0,
              "model_id": "3da890b3158a4af49115533b1b271a95"
            }
          },
          "metadata": {}
        },
        {
          "output_type": "stream",
          "name": "stdout",
          "text": [
            "\u001b[2m2025-10-30 13:02.26\u001b[0m [\u001b[32m\u001b[1minfo     \u001b[0m] \u001b[1mDiscreteCQL_20251030125709: epoch=3 step=30000\u001b[0m \u001b[36mepoch\u001b[0m=\u001b[35m3\u001b[0m \u001b[36mmetrics\u001b[0m=\u001b[35m{'time_sample_batch': 0.005095562219619751, 'time_algorithm_update': 0.005201039505004883, 'loss': 65427.72287109375, 'td_loss': 65423.37359804688, 'conservative_loss': 4.34928263771534, 'time_step': 0.01046648976802826}\u001b[0m \u001b[36mstep\u001b[0m=\u001b[35m30000\u001b[0m\n",
            "\u001b[2m2025-10-30 13:02.26\u001b[0m [\u001b[32m\u001b[1minfo     \u001b[0m] \u001b[1mModel parameters are saved to d3rlpy_logs/DiscreteCQL_20251030125709/model_30000.d3\u001b[0m\n"
          ]
        },
        {
          "output_type": "display_data",
          "data": {
            "text/plain": [
              "Epoch 4/10:   0%|          | 0/10000 [00:00<?, ?it/s]"
            ],
            "application/vnd.jupyter.widget-view+json": {
              "version_major": 2,
              "version_minor": 0,
              "model_id": "b2306888c3d44445bcb502de6ae5c3ff"
            }
          },
          "metadata": {}
        },
        {
          "output_type": "stream",
          "name": "stdout",
          "text": [
            "\u001b[2m2025-10-30 13:04.10\u001b[0m [\u001b[32m\u001b[1minfo     \u001b[0m] \u001b[1mDiscreteCQL_20251030125709: epoch=4 step=40000\u001b[0m \u001b[36mepoch\u001b[0m=\u001b[35m4\u001b[0m \u001b[36mmetrics\u001b[0m=\u001b[35m{'time_sample_batch': 0.005029867792129517, 'time_algorithm_update': 0.0051364280939102175, 'loss': 65450.93588242187, 'td_loss': 65445.777788671876, 'conservative_loss': 5.158083097743988, 'time_step': 0.010332501077651978}\u001b[0m \u001b[36mstep\u001b[0m=\u001b[35m40000\u001b[0m\n",
            "\u001b[2m2025-10-30 13:04.10\u001b[0m [\u001b[32m\u001b[1minfo     \u001b[0m] \u001b[1mModel parameters are saved to d3rlpy_logs/DiscreteCQL_20251030125709/model_40000.d3\u001b[0m\n"
          ]
        },
        {
          "output_type": "display_data",
          "data": {
            "text/plain": [
              "Epoch 5/10:   0%|          | 0/10000 [00:00<?, ?it/s]"
            ],
            "application/vnd.jupyter.widget-view+json": {
              "version_major": 2,
              "version_minor": 0,
              "model_id": "c04ef7b5ca854c1bb9a9fbfbb8e42804"
            }
          },
          "metadata": {}
        },
        {
          "output_type": "stream",
          "name": "stdout",
          "text": [
            "\u001b[2m2025-10-30 13:05.55\u001b[0m [\u001b[32m\u001b[1minfo     \u001b[0m] \u001b[1mDiscreteCQL_20251030125709: epoch=5 step=50000\u001b[0m \u001b[36mepoch\u001b[0m=\u001b[35m5\u001b[0m \u001b[36mmetrics\u001b[0m=\u001b[35m{'time_sample_batch': 0.005069898891448974, 'time_algorithm_update': 0.005158172655105591, 'loss': 65347.0042234375, 'td_loss': 65341.383003125, 'conservative_loss': 5.621232140135765, 'time_step': 0.010393046140670777}\u001b[0m \u001b[36mstep\u001b[0m=\u001b[35m50000\u001b[0m\n",
            "\u001b[2m2025-10-30 13:05.55\u001b[0m [\u001b[32m\u001b[1minfo     \u001b[0m] \u001b[1mModel parameters are saved to d3rlpy_logs/DiscreteCQL_20251030125709/model_50000.d3\u001b[0m\n"
          ]
        },
        {
          "output_type": "display_data",
          "data": {
            "text/plain": [
              "Epoch 6/10:   0%|          | 0/10000 [00:00<?, ?it/s]"
            ],
            "application/vnd.jupyter.widget-view+json": {
              "version_major": 2,
              "version_minor": 0,
              "model_id": "8e777263add24994a9b0d754c3d3610b"
            }
          },
          "metadata": {}
        },
        {
          "output_type": "stream",
          "name": "stdout",
          "text": [
            "\u001b[2m2025-10-30 13:07.40\u001b[0m [\u001b[32m\u001b[1minfo     \u001b[0m] \u001b[1mDiscreteCQL_20251030125709: epoch=6 step=60000\u001b[0m \u001b[36mepoch\u001b[0m=\u001b[35m6\u001b[0m \u001b[36mmetrics\u001b[0m=\u001b[35m{'time_sample_batch': 0.005097174739837646, 'time_algorithm_update': 0.005172935605049133, 'loss': 65428.11469726563, 'td_loss': 65422.15786328125, 'conservative_loss': 5.956833161234855, 'time_step': 0.010445523595809936}\u001b[0m \u001b[36mstep\u001b[0m=\u001b[35m60000\u001b[0m\n",
            "\u001b[2m2025-10-30 13:07.40\u001b[0m [\u001b[32m\u001b[1minfo     \u001b[0m] \u001b[1mModel parameters are saved to d3rlpy_logs/DiscreteCQL_20251030125709/model_60000.d3\u001b[0m\n"
          ]
        },
        {
          "output_type": "display_data",
          "data": {
            "text/plain": [
              "Epoch 7/10:   0%|          | 0/10000 [00:00<?, ?it/s]"
            ],
            "application/vnd.jupyter.widget-view+json": {
              "version_major": 2,
              "version_minor": 0,
              "model_id": "5133e93d88d44a499fafd5a5c8a3d76f"
            }
          },
          "metadata": {}
        },
        {
          "output_type": "stream",
          "name": "stdout",
          "text": [
            "\u001b[2m2025-10-30 13:09.26\u001b[0m [\u001b[32m\u001b[1minfo     \u001b[0m] \u001b[1mDiscreteCQL_20251030125709: epoch=7 step=70000\u001b[0m \u001b[36mepoch\u001b[0m=\u001b[35m7\u001b[0m \u001b[36mmetrics\u001b[0m=\u001b[35m{'time_sample_batch': 0.00512538640499115, 'time_algorithm_update': 0.005239971852302551, 'loss': 65296.05888125, 'td_loss': 65287.25139804687, 'conservative_loss': 8.807457001543044, 'time_step': 0.010540290427207947}\u001b[0m \u001b[36mstep\u001b[0m=\u001b[35m70000\u001b[0m\n",
            "\u001b[2m2025-10-30 13:09.26\u001b[0m [\u001b[32m\u001b[1minfo     \u001b[0m] \u001b[1mModel parameters are saved to d3rlpy_logs/DiscreteCQL_20251030125709/model_70000.d3\u001b[0m\n"
          ]
        },
        {
          "output_type": "display_data",
          "data": {
            "text/plain": [
              "Epoch 8/10:   0%|          | 0/10000 [00:00<?, ?it/s]"
            ],
            "application/vnd.jupyter.widget-view+json": {
              "version_major": 2,
              "version_minor": 0,
              "model_id": "e175ae1b98d54b929b078a56069c04a8"
            }
          },
          "metadata": {}
        },
        {
          "output_type": "stream",
          "name": "stdout",
          "text": [
            "\u001b[2m2025-10-30 13:11.12\u001b[0m [\u001b[32m\u001b[1minfo     \u001b[0m] \u001b[1mDiscreteCQL_20251030125709: epoch=8 step=80000\u001b[0m \u001b[36mepoch\u001b[0m=\u001b[35m8\u001b[0m \u001b[36mmetrics\u001b[0m=\u001b[35m{'time_sample_batch': 0.005098822855949402, 'time_algorithm_update': 0.005219129228591919, 'loss': 65409.948584765625, 'td_loss': 65400.405337109376, 'conservative_loss': 9.54322754201889, 'time_step': 0.010504488110542297}\u001b[0m \u001b[36mstep\u001b[0m=\u001b[35m80000\u001b[0m\n",
            "\u001b[2m2025-10-30 13:11.12\u001b[0m [\u001b[32m\u001b[1minfo     \u001b[0m] \u001b[1mModel parameters are saved to d3rlpy_logs/DiscreteCQL_20251030125709/model_80000.d3\u001b[0m\n"
          ]
        },
        {
          "output_type": "display_data",
          "data": {
            "text/plain": [
              "Epoch 9/10:   0%|          | 0/10000 [00:00<?, ?it/s]"
            ],
            "application/vnd.jupyter.widget-view+json": {
              "version_major": 2,
              "version_minor": 0,
              "model_id": "75431c35344b44089776a790d6c3e2c4"
            }
          },
          "metadata": {}
        },
        {
          "output_type": "stream",
          "name": "stdout",
          "text": [
            "\u001b[2m2025-10-30 13:12.58\u001b[0m [\u001b[32m\u001b[1minfo     \u001b[0m] \u001b[1mDiscreteCQL_20251030125709: epoch=9 step=90000\u001b[0m \u001b[36mepoch\u001b[0m=\u001b[35m9\u001b[0m \u001b[36mmetrics\u001b[0m=\u001b[35m{'time_sample_batch': 0.005127878379821777, 'time_algorithm_update': 0.005220743346214294, 'loss': 65451.39411796875, 'td_loss': 65441.52236953125, 'conservative_loss': 9.87177396440506, 'time_step': 0.010521005153656006}\u001b[0m \u001b[36mstep\u001b[0m=\u001b[35m90000\u001b[0m\n",
            "\u001b[2m2025-10-30 13:12.58\u001b[0m [\u001b[32m\u001b[1minfo     \u001b[0m] \u001b[1mModel parameters are saved to d3rlpy_logs/DiscreteCQL_20251030125709/model_90000.d3\u001b[0m\n"
          ]
        },
        {
          "output_type": "display_data",
          "data": {
            "text/plain": [
              "Epoch 10/10:   0%|          | 0/10000 [00:00<?, ?it/s]"
            ],
            "application/vnd.jupyter.widget-view+json": {
              "version_major": 2,
              "version_minor": 0,
              "model_id": "56ff32909ebf4314937d6a3a2ec8fcf4"
            }
          },
          "metadata": {}
        },
        {
          "output_type": "stream",
          "name": "stdout",
          "text": [
            "\u001b[2m2025-10-30 13:14.44\u001b[0m [\u001b[32m\u001b[1minfo     \u001b[0m] \u001b[1mDiscreteCQL_20251030125709: epoch=10 step=100000\u001b[0m \u001b[36mepoch\u001b[0m=\u001b[35m10\u001b[0m \u001b[36mmetrics\u001b[0m=\u001b[35m{'time_sample_batch': 0.005131763982772827, 'time_algorithm_update': 0.005238607168197632, 'loss': 65359.415630078125, 'td_loss': 65351.67520429687, 'conservative_loss': 7.74044228644371, 'time_step': 0.010551538801193238}\u001b[0m \u001b[36mstep\u001b[0m=\u001b[35m100000\u001b[0m\n",
            "\u001b[2m2025-10-30 13:14.44\u001b[0m [\u001b[32m\u001b[1minfo     \u001b[0m] \u001b[1mModel parameters are saved to d3rlpy_logs/DiscreteCQL_20251030125709/model_100000.d3\u001b[0m\n"
          ]
        }
      ]
    },
    {
      "cell_type": "markdown",
      "source": [
        "**Task 4: Evaluation & Comparison**"
      ],
      "metadata": {
        "id": "dGVdDn28iPbU"
      }
    },
    {
      "cell_type": "code",
      "source": [
        "rl_actions = cql.predict(X_test.astype(np.float32))\n",
        "rl_actions = np.array(rl_actions).astype(int)\n",
        "\n",
        "est_rewards_rl = np.where(rl_actions == 1, rewards_test, 0.0)\n",
        "estimated_value_rl = est_rewards_rl.mean()\n",
        "print(f\"RL policy estimated average reward per loan (test): {estimated_value_rl:.4f}\")\n",
        "print(f\"Total expected profit on test (sum): {est_rewards_rl.sum():.2f} over {len(est_rewards_rl)} loans\")\n"
      ],
      "metadata": {
        "id": "Q5NnlE8-H4TX",
        "colab": {
          "base_uri": "https://localhost:8080/"
        },
        "outputId": "9b166420-79a3-47c4-dbb0-7336c9baaf8c"
      },
      "execution_count": 15,
      "outputs": [
        {
          "output_type": "stream",
          "name": "stdout",
          "text": [
            "RL policy estimated average reward per loan (test): 95567.5078\n",
            "Total expected profit on test (sum): 417056608.00 over 4364 loans\n"
          ]
        }
      ]
    },
    {
      "cell_type": "code",
      "source": [
        "model.eval()\n",
        "with torch.no_grad():\n",
        "    val_logits = model(torch.tensor(X_val, dtype=torch.float32).to(device)).cpu().numpy()\n",
        "val_probs = 1.0/(1.0+np.exp(-val_logits))\n",
        "\n",
        "thresholds = np.linspace(0.0, 1.0, 101)\n",
        "best_tau = None\n",
        "best_value = -1e12\n",
        "for tau in thresholds:\n",
        "    actions = (val_probs < tau).astype(int)\n",
        "    est_rewards = np.where(actions == 1, rewards_val, 0.0)\n",
        "    val = est_rewards.mean()\n",
        "    if val > best_value:\n",
        "        best_value = val\n",
        "        best_tau = tau\n",
        "\n",
        "print(\"Best validation threshold (max expected reward):\", best_tau, \"value:\", best_value)\n",
        "\n",
        "with torch.no_grad():\n",
        "    test_logits = model(torch.tensor(X_test, dtype=torch.float32).to(device)).cpu().numpy()\n",
        "test_probs = 1.0/(1.0+np.exp(-test_logits))\n",
        "supervised_actions_test = (test_probs < best_tau).astype(int)\n",
        "est_rewards_supervised = np.where(supervised_actions_test == 1, rewards_test, 0.0)\n",
        "estimated_value_supervised = est_rewards_supervised.mean()\n",
        "print(\"Supervised policy estimated avg reward (test):\", estimated_value_supervised)\n",
        "print(\"Supervised policy AUC (test):\", test_auc, \"F1 (0.5 threshold):\", test_f1)\n"
      ],
      "metadata": {
        "id": "RV4yKLVrf49m",
        "colab": {
          "base_uri": "https://localhost:8080/"
        },
        "outputId": "67681bca-24b0-4f4b-c5a6-39a429e37db4"
      },
      "execution_count": 16,
      "outputs": [
        {
          "output_type": "stream",
          "name": "stdout",
          "text": [
            "Best validation threshold (max expected reward): 0.5 value: 123176.375\n",
            "Supervised policy estimated avg reward (test): 125428.695\n",
            "Supervised policy AUC (test): 0.7446439606617582 F1 (0.5 threshold): 0.0\n"
          ]
        }
      ]
    },
    {
      "cell_type": "code",
      "source": [
        "always_approve_value = rewards_test.mean()\n",
        "always_deny_value = 0.0\n",
        "print(\"Always approve average reward:\", always_approve_value)\n",
        "print(\"Always deny average reward:\", always_deny_value)"
      ],
      "metadata": {
        "id": "p4qYvUUMf-0_",
        "colab": {
          "base_uri": "https://localhost:8080/"
        },
        "outputId": "ce8ec506-26b6-4e7c-bc9c-ab2a21de7483"
      },
      "execution_count": 17,
      "outputs": [
        {
          "output_type": "stream",
          "name": "stdout",
          "text": [
            "Always approve average reward: 125428.695\n",
            "Always deny average reward: 0.0\n"
          ]
        }
      ]
    },
    {
      "cell_type": "markdown",
      "source": [
        "**Examples where policies differ**"
      ],
      "metadata": {
        "id": "kdJdTwacila-"
      }
    },
    {
      "cell_type": "code",
      "source": [
        "test_df = X_test_df.reset_index(drop=True).copy()\n",
        "inspection = test_df.copy()\n",
        "inspection['y_true'] = y_test\n",
        "inspection['loan_amnt'] = loanamnt_test\n",
        "inspection['int_rate'] = int_rate_test\n",
        "inspection['reward_if_approve'] = rewards_test\n",
        "inspection['supervised_action'] = supervised_actions_test\n",
        "inspection['rl_action'] = rl_actions\n",
        "inspection['supervised_prob_default'] = test_probs\n",
        "\n",
        "disagree = inspection[inspection['supervised_action'] != inspection['rl_action']]\n",
        "print(\"Number of disagreements on test:\", len(disagree))\n",
        "display(disagree.head(8))\n"
      ],
      "metadata": {
        "id": "i8QdOAk7gFJn",
        "colab": {
          "base_uri": "https://localhost:8080/",
          "height": 367
        },
        "outputId": "ed1e60c2-bab4-41fb-bc50-f7ab683d5046"
      },
      "execution_count": 18,
      "outputs": [
        {
          "output_type": "stream",
          "name": "stdout",
          "text": [
            "Number of disagreements on test: 907\n"
          ]
        },
        {
          "output_type": "display_data",
          "data": {
            "text/plain": [
              "    loan_amnt  int_rate  annual_inc    dti  revol_util  total_acc  open_acc  \\\n",
              "1     24000.0      9.76    106000.0  29.92        33.9       38.0      19.0   \n",
              "6     22000.0     11.99     90000.0  27.51        76.7       22.0      13.0   \n",
              "11     8000.0     22.99     41888.0  32.81        58.9       19.0      14.0   \n",
              "13    23625.0     23.99     73854.0  21.06        61.4       15.0      12.0   \n",
              "15    20000.0      6.89    145000.0  26.67        58.7       47.0      21.0   \n",
              "23    24000.0     18.49     90000.0  20.91        64.1       24.0      15.0   \n",
              "29     3450.0     16.55     26000.0  34.38        62.3       20.0       6.0   \n",
              "39    24000.0      9.17     81000.0  28.58        82.1       43.0      18.0   \n",
              "\n",
              "    pub_rec  delinq_2yrs  emp_length  ...  sub_grade home_ownership  \\\n",
              "1       0.0          0.0        10.0  ...         B3       MORTGAGE   \n",
              "6       1.0          0.0         3.0  ...         C1           RENT   \n",
              "11      1.0          0.0         NaN  ...         F2            OWN   \n",
              "13      0.0          0.0         2.0  ...         F3       MORTGAGE   \n",
              "15      0.0          0.0         3.0  ...         A3       MORTGAGE   \n",
              "23      0.0          0.0         4.0  ...         E2           RENT   \n",
              "29      0.0          1.0        10.0  ...         D2           RENT   \n",
              "39      0.0          2.0         8.0  ...         B2       MORTGAGE   \n",
              "\n",
              "   verification_status             purpose addr_state y_true  \\\n",
              "1         Not Verified         credit_card         AZ      0   \n",
              "6      Source Verified  debt_consolidation         CA      0   \n",
              "11            Verified  debt_consolidation         LA      1   \n",
              "13            Verified  debt_consolidation         OH      0   \n",
              "15        Not Verified         credit_card         VA      0   \n",
              "23        Not Verified         credit_card         FL      1   \n",
              "29     Source Verified      major_purchase         FL      0   \n",
              "39            Verified    home_improvement         NH      0   \n",
              "\n",
              "   reward_if_approve  supervised_action  rl_action  supervised_prob_default  \n",
              "1          234240.00                  1          0                 0.159283  \n",
              "6          263780.00                  1          0                 0.330924  \n",
              "11          -8000.00                  1          0                 0.482623  \n",
              "13         566763.75                  1          0                 0.490672  \n",
              "15         137800.00                  1          0                 0.043111  \n",
              "23         -24000.00                  1          0                 0.485157  \n",
              "29          57097.50                  1          0                 0.351598  \n",
              "39         220080.00                  1          0                 0.105868  \n",
              "\n",
              "[8 rows x 22 columns]"
            ],
            "text/html": [
              "\n",
              "  <div id=\"df-c30da513-4faf-4962-b293-4a6edca5b648\" class=\"colab-df-container\">\n",
              "    <div>\n",
              "<style scoped>\n",
              "    .dataframe tbody tr th:only-of-type {\n",
              "        vertical-align: middle;\n",
              "    }\n",
              "\n",
              "    .dataframe tbody tr th {\n",
              "        vertical-align: top;\n",
              "    }\n",
              "\n",
              "    .dataframe thead th {\n",
              "        text-align: right;\n",
              "    }\n",
              "</style>\n",
              "<table border=\"1\" class=\"dataframe\">\n",
              "  <thead>\n",
              "    <tr style=\"text-align: right;\">\n",
              "      <th></th>\n",
              "      <th>loan_amnt</th>\n",
              "      <th>int_rate</th>\n",
              "      <th>annual_inc</th>\n",
              "      <th>dti</th>\n",
              "      <th>revol_util</th>\n",
              "      <th>total_acc</th>\n",
              "      <th>open_acc</th>\n",
              "      <th>pub_rec</th>\n",
              "      <th>delinq_2yrs</th>\n",
              "      <th>emp_length</th>\n",
              "      <th>...</th>\n",
              "      <th>sub_grade</th>\n",
              "      <th>home_ownership</th>\n",
              "      <th>verification_status</th>\n",
              "      <th>purpose</th>\n",
              "      <th>addr_state</th>\n",
              "      <th>y_true</th>\n",
              "      <th>reward_if_approve</th>\n",
              "      <th>supervised_action</th>\n",
              "      <th>rl_action</th>\n",
              "      <th>supervised_prob_default</th>\n",
              "    </tr>\n",
              "  </thead>\n",
              "  <tbody>\n",
              "    <tr>\n",
              "      <th>1</th>\n",
              "      <td>24000.0</td>\n",
              "      <td>9.76</td>\n",
              "      <td>106000.0</td>\n",
              "      <td>29.92</td>\n",
              "      <td>33.9</td>\n",
              "      <td>38.0</td>\n",
              "      <td>19.0</td>\n",
              "      <td>0.0</td>\n",
              "      <td>0.0</td>\n",
              "      <td>10.0</td>\n",
              "      <td>...</td>\n",
              "      <td>B3</td>\n",
              "      <td>MORTGAGE</td>\n",
              "      <td>Not Verified</td>\n",
              "      <td>credit_card</td>\n",
              "      <td>AZ</td>\n",
              "      <td>0</td>\n",
              "      <td>234240.00</td>\n",
              "      <td>1</td>\n",
              "      <td>0</td>\n",
              "      <td>0.159283</td>\n",
              "    </tr>\n",
              "    <tr>\n",
              "      <th>6</th>\n",
              "      <td>22000.0</td>\n",
              "      <td>11.99</td>\n",
              "      <td>90000.0</td>\n",
              "      <td>27.51</td>\n",
              "      <td>76.7</td>\n",
              "      <td>22.0</td>\n",
              "      <td>13.0</td>\n",
              "      <td>1.0</td>\n",
              "      <td>0.0</td>\n",
              "      <td>3.0</td>\n",
              "      <td>...</td>\n",
              "      <td>C1</td>\n",
              "      <td>RENT</td>\n",
              "      <td>Source Verified</td>\n",
              "      <td>debt_consolidation</td>\n",
              "      <td>CA</td>\n",
              "      <td>0</td>\n",
              "      <td>263780.00</td>\n",
              "      <td>1</td>\n",
              "      <td>0</td>\n",
              "      <td>0.330924</td>\n",
              "    </tr>\n",
              "    <tr>\n",
              "      <th>11</th>\n",
              "      <td>8000.0</td>\n",
              "      <td>22.99</td>\n",
              "      <td>41888.0</td>\n",
              "      <td>32.81</td>\n",
              "      <td>58.9</td>\n",
              "      <td>19.0</td>\n",
              "      <td>14.0</td>\n",
              "      <td>1.0</td>\n",
              "      <td>0.0</td>\n",
              "      <td>NaN</td>\n",
              "      <td>...</td>\n",
              "      <td>F2</td>\n",
              "      <td>OWN</td>\n",
              "      <td>Verified</td>\n",
              "      <td>debt_consolidation</td>\n",
              "      <td>LA</td>\n",
              "      <td>1</td>\n",
              "      <td>-8000.00</td>\n",
              "      <td>1</td>\n",
              "      <td>0</td>\n",
              "      <td>0.482623</td>\n",
              "    </tr>\n",
              "    <tr>\n",
              "      <th>13</th>\n",
              "      <td>23625.0</td>\n",
              "      <td>23.99</td>\n",
              "      <td>73854.0</td>\n",
              "      <td>21.06</td>\n",
              "      <td>61.4</td>\n",
              "      <td>15.0</td>\n",
              "      <td>12.0</td>\n",
              "      <td>0.0</td>\n",
              "      <td>0.0</td>\n",
              "      <td>2.0</td>\n",
              "      <td>...</td>\n",
              "      <td>F3</td>\n",
              "      <td>MORTGAGE</td>\n",
              "      <td>Verified</td>\n",
              "      <td>debt_consolidation</td>\n",
              "      <td>OH</td>\n",
              "      <td>0</td>\n",
              "      <td>566763.75</td>\n",
              "      <td>1</td>\n",
              "      <td>0</td>\n",
              "      <td>0.490672</td>\n",
              "    </tr>\n",
              "    <tr>\n",
              "      <th>15</th>\n",
              "      <td>20000.0</td>\n",
              "      <td>6.89</td>\n",
              "      <td>145000.0</td>\n",
              "      <td>26.67</td>\n",
              "      <td>58.7</td>\n",
              "      <td>47.0</td>\n",
              "      <td>21.0</td>\n",
              "      <td>0.0</td>\n",
              "      <td>0.0</td>\n",
              "      <td>3.0</td>\n",
              "      <td>...</td>\n",
              "      <td>A3</td>\n",
              "      <td>MORTGAGE</td>\n",
              "      <td>Not Verified</td>\n",
              "      <td>credit_card</td>\n",
              "      <td>VA</td>\n",
              "      <td>0</td>\n",
              "      <td>137800.00</td>\n",
              "      <td>1</td>\n",
              "      <td>0</td>\n",
              "      <td>0.043111</td>\n",
              "    </tr>\n",
              "    <tr>\n",
              "      <th>23</th>\n",
              "      <td>24000.0</td>\n",
              "      <td>18.49</td>\n",
              "      <td>90000.0</td>\n",
              "      <td>20.91</td>\n",
              "      <td>64.1</td>\n",
              "      <td>24.0</td>\n",
              "      <td>15.0</td>\n",
              "      <td>0.0</td>\n",
              "      <td>0.0</td>\n",
              "      <td>4.0</td>\n",
              "      <td>...</td>\n",
              "      <td>E2</td>\n",
              "      <td>RENT</td>\n",
              "      <td>Not Verified</td>\n",
              "      <td>credit_card</td>\n",
              "      <td>FL</td>\n",
              "      <td>1</td>\n",
              "      <td>-24000.00</td>\n",
              "      <td>1</td>\n",
              "      <td>0</td>\n",
              "      <td>0.485157</td>\n",
              "    </tr>\n",
              "    <tr>\n",
              "      <th>29</th>\n",
              "      <td>3450.0</td>\n",
              "      <td>16.55</td>\n",
              "      <td>26000.0</td>\n",
              "      <td>34.38</td>\n",
              "      <td>62.3</td>\n",
              "      <td>20.0</td>\n",
              "      <td>6.0</td>\n",
              "      <td>0.0</td>\n",
              "      <td>1.0</td>\n",
              "      <td>10.0</td>\n",
              "      <td>...</td>\n",
              "      <td>D2</td>\n",
              "      <td>RENT</td>\n",
              "      <td>Source Verified</td>\n",
              "      <td>major_purchase</td>\n",
              "      <td>FL</td>\n",
              "      <td>0</td>\n",
              "      <td>57097.50</td>\n",
              "      <td>1</td>\n",
              "      <td>0</td>\n",
              "      <td>0.351598</td>\n",
              "    </tr>\n",
              "    <tr>\n",
              "      <th>39</th>\n",
              "      <td>24000.0</td>\n",
              "      <td>9.17</td>\n",
              "      <td>81000.0</td>\n",
              "      <td>28.58</td>\n",
              "      <td>82.1</td>\n",
              "      <td>43.0</td>\n",
              "      <td>18.0</td>\n",
              "      <td>0.0</td>\n",
              "      <td>2.0</td>\n",
              "      <td>8.0</td>\n",
              "      <td>...</td>\n",
              "      <td>B2</td>\n",
              "      <td>MORTGAGE</td>\n",
              "      <td>Verified</td>\n",
              "      <td>home_improvement</td>\n",
              "      <td>NH</td>\n",
              "      <td>0</td>\n",
              "      <td>220080.00</td>\n",
              "      <td>1</td>\n",
              "      <td>0</td>\n",
              "      <td>0.105868</td>\n",
              "    </tr>\n",
              "  </tbody>\n",
              "</table>\n",
              "<p>8 rows × 22 columns</p>\n",
              "</div>\n",
              "    <div class=\"colab-df-buttons\">\n",
              "\n",
              "  <div class=\"colab-df-container\">\n",
              "    <button class=\"colab-df-convert\" onclick=\"convertToInteractive('df-c30da513-4faf-4962-b293-4a6edca5b648')\"\n",
              "            title=\"Convert this dataframe to an interactive table.\"\n",
              "            style=\"display:none;\">\n",
              "\n",
              "  <svg xmlns=\"http://www.w3.org/2000/svg\" height=\"24px\" viewBox=\"0 -960 960 960\">\n",
              "    <path d=\"M120-120v-720h720v720H120Zm60-500h600v-160H180v160Zm220 220h160v-160H400v160Zm0 220h160v-160H400v160ZM180-400h160v-160H180v160Zm440 0h160v-160H620v160ZM180-180h160v-160H180v160Zm440 0h160v-160H620v160Z\"/>\n",
              "  </svg>\n",
              "    </button>\n",
              "\n",
              "  <style>\n",
              "    .colab-df-container {\n",
              "      display:flex;\n",
              "      gap: 12px;\n",
              "    }\n",
              "\n",
              "    .colab-df-convert {\n",
              "      background-color: #E8F0FE;\n",
              "      border: none;\n",
              "      border-radius: 50%;\n",
              "      cursor: pointer;\n",
              "      display: none;\n",
              "      fill: #1967D2;\n",
              "      height: 32px;\n",
              "      padding: 0 0 0 0;\n",
              "      width: 32px;\n",
              "    }\n",
              "\n",
              "    .colab-df-convert:hover {\n",
              "      background-color: #E2EBFA;\n",
              "      box-shadow: 0px 1px 2px rgba(60, 64, 67, 0.3), 0px 1px 3px 1px rgba(60, 64, 67, 0.15);\n",
              "      fill: #174EA6;\n",
              "    }\n",
              "\n",
              "    .colab-df-buttons div {\n",
              "      margin-bottom: 4px;\n",
              "    }\n",
              "\n",
              "    [theme=dark] .colab-df-convert {\n",
              "      background-color: #3B4455;\n",
              "      fill: #D2E3FC;\n",
              "    }\n",
              "\n",
              "    [theme=dark] .colab-df-convert:hover {\n",
              "      background-color: #434B5C;\n",
              "      box-shadow: 0px 1px 3px 1px rgba(0, 0, 0, 0.15);\n",
              "      filter: drop-shadow(0px 1px 2px rgba(0, 0, 0, 0.3));\n",
              "      fill: #FFFFFF;\n",
              "    }\n",
              "  </style>\n",
              "\n",
              "    <script>\n",
              "      const buttonEl =\n",
              "        document.querySelector('#df-c30da513-4faf-4962-b293-4a6edca5b648 button.colab-df-convert');\n",
              "      buttonEl.style.display =\n",
              "        google.colab.kernel.accessAllowed ? 'block' : 'none';\n",
              "\n",
              "      async function convertToInteractive(key) {\n",
              "        const element = document.querySelector('#df-c30da513-4faf-4962-b293-4a6edca5b648');\n",
              "        const dataTable =\n",
              "          await google.colab.kernel.invokeFunction('convertToInteractive',\n",
              "                                                    [key], {});\n",
              "        if (!dataTable) return;\n",
              "\n",
              "        const docLinkHtml = 'Like what you see? Visit the ' +\n",
              "          '<a target=\"_blank\" href=https://colab.research.google.com/notebooks/data_table.ipynb>data table notebook</a>'\n",
              "          + ' to learn more about interactive tables.';\n",
              "        element.innerHTML = '';\n",
              "        dataTable['output_type'] = 'display_data';\n",
              "        await google.colab.output.renderOutput(dataTable, element);\n",
              "        const docLink = document.createElement('div');\n",
              "        docLink.innerHTML = docLinkHtml;\n",
              "        element.appendChild(docLink);\n",
              "      }\n",
              "    </script>\n",
              "  </div>\n",
              "\n",
              "\n",
              "    <div id=\"df-dfe51fa4-5b10-4d2d-a914-ed3ca7a5122e\">\n",
              "      <button class=\"colab-df-quickchart\" onclick=\"quickchart('df-dfe51fa4-5b10-4d2d-a914-ed3ca7a5122e')\"\n",
              "                title=\"Suggest charts\"\n",
              "                style=\"display:none;\">\n",
              "\n",
              "<svg xmlns=\"http://www.w3.org/2000/svg\" height=\"24px\"viewBox=\"0 0 24 24\"\n",
              "     width=\"24px\">\n",
              "    <g>\n",
              "        <path d=\"M19 3H5c-1.1 0-2 .9-2 2v14c0 1.1.9 2 2 2h14c1.1 0 2-.9 2-2V5c0-1.1-.9-2-2-2zM9 17H7v-7h2v7zm4 0h-2V7h2v10zm4 0h-2v-4h2v4z\"/>\n",
              "    </g>\n",
              "</svg>\n",
              "      </button>\n",
              "\n",
              "<style>\n",
              "  .colab-df-quickchart {\n",
              "      --bg-color: #E8F0FE;\n",
              "      --fill-color: #1967D2;\n",
              "      --hover-bg-color: #E2EBFA;\n",
              "      --hover-fill-color: #174EA6;\n",
              "      --disabled-fill-color: #AAA;\n",
              "      --disabled-bg-color: #DDD;\n",
              "  }\n",
              "\n",
              "  [theme=dark] .colab-df-quickchart {\n",
              "      --bg-color: #3B4455;\n",
              "      --fill-color: #D2E3FC;\n",
              "      --hover-bg-color: #434B5C;\n",
              "      --hover-fill-color: #FFFFFF;\n",
              "      --disabled-bg-color: #3B4455;\n",
              "      --disabled-fill-color: #666;\n",
              "  }\n",
              "\n",
              "  .colab-df-quickchart {\n",
              "    background-color: var(--bg-color);\n",
              "    border: none;\n",
              "    border-radius: 50%;\n",
              "    cursor: pointer;\n",
              "    display: none;\n",
              "    fill: var(--fill-color);\n",
              "    height: 32px;\n",
              "    padding: 0;\n",
              "    width: 32px;\n",
              "  }\n",
              "\n",
              "  .colab-df-quickchart:hover {\n",
              "    background-color: var(--hover-bg-color);\n",
              "    box-shadow: 0 1px 2px rgba(60, 64, 67, 0.3), 0 1px 3px 1px rgba(60, 64, 67, 0.15);\n",
              "    fill: var(--button-hover-fill-color);\n",
              "  }\n",
              "\n",
              "  .colab-df-quickchart-complete:disabled,\n",
              "  .colab-df-quickchart-complete:disabled:hover {\n",
              "    background-color: var(--disabled-bg-color);\n",
              "    fill: var(--disabled-fill-color);\n",
              "    box-shadow: none;\n",
              "  }\n",
              "\n",
              "  .colab-df-spinner {\n",
              "    border: 2px solid var(--fill-color);\n",
              "    border-color: transparent;\n",
              "    border-bottom-color: var(--fill-color);\n",
              "    animation:\n",
              "      spin 1s steps(1) infinite;\n",
              "  }\n",
              "\n",
              "  @keyframes spin {\n",
              "    0% {\n",
              "      border-color: transparent;\n",
              "      border-bottom-color: var(--fill-color);\n",
              "      border-left-color: var(--fill-color);\n",
              "    }\n",
              "    20% {\n",
              "      border-color: transparent;\n",
              "      border-left-color: var(--fill-color);\n",
              "      border-top-color: var(--fill-color);\n",
              "    }\n",
              "    30% {\n",
              "      border-color: transparent;\n",
              "      border-left-color: var(--fill-color);\n",
              "      border-top-color: var(--fill-color);\n",
              "      border-right-color: var(--fill-color);\n",
              "    }\n",
              "    40% {\n",
              "      border-color: transparent;\n",
              "      border-right-color: var(--fill-color);\n",
              "      border-top-color: var(--fill-color);\n",
              "    }\n",
              "    60% {\n",
              "      border-color: transparent;\n",
              "      border-right-color: var(--fill-color);\n",
              "    }\n",
              "    80% {\n",
              "      border-color: transparent;\n",
              "      border-right-color: var(--fill-color);\n",
              "      border-bottom-color: var(--fill-color);\n",
              "    }\n",
              "    90% {\n",
              "      border-color: transparent;\n",
              "      border-bottom-color: var(--fill-color);\n",
              "    }\n",
              "  }\n",
              "</style>\n",
              "\n",
              "      <script>\n",
              "        async function quickchart(key) {\n",
              "          const quickchartButtonEl =\n",
              "            document.querySelector('#' + key + ' button');\n",
              "          quickchartButtonEl.disabled = true;  // To prevent multiple clicks.\n",
              "          quickchartButtonEl.classList.add('colab-df-spinner');\n",
              "          try {\n",
              "            const charts = await google.colab.kernel.invokeFunction(\n",
              "                'suggestCharts', [key], {});\n",
              "          } catch (error) {\n",
              "            console.error('Error during call to suggestCharts:', error);\n",
              "          }\n",
              "          quickchartButtonEl.classList.remove('colab-df-spinner');\n",
              "          quickchartButtonEl.classList.add('colab-df-quickchart-complete');\n",
              "        }\n",
              "        (() => {\n",
              "          let quickchartButtonEl =\n",
              "            document.querySelector('#df-dfe51fa4-5b10-4d2d-a914-ed3ca7a5122e button');\n",
              "          quickchartButtonEl.style.display =\n",
              "            google.colab.kernel.accessAllowed ? 'block' : 'none';\n",
              "        })();\n",
              "      </script>\n",
              "    </div>\n",
              "\n",
              "    </div>\n",
              "  </div>\n"
            ],
            "application/vnd.google.colaboratory.intrinsic+json": {
              "type": "dataframe"
            }
          },
          "metadata": {}
        }
      ]
    },
    {
      "cell_type": "code",
      "source": [],
      "metadata": {
        "id": "srKsXVP_gOzA"
      },
      "execution_count": 18,
      "outputs": []
    }
  ]
}
