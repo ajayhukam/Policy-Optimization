{
  "nbformat": 4,
  "nbformat_minor": 0,
  "metadata": {
    "colab": {
      "provenance": [],
      "gpuType": "T4",
      "include_colab_link": true
    },
    "kernelspec": {
      "name": "python3",
      "display_name": "Python 3"
    },
    "language_info": {
      "name": "python"
    },
    "accelerator": "GPU"
  },
  "cells": [
    {
      "cell_type": "markdown",
      "metadata": {
        "id": "view-in-github",
        "colab_type": "text"
      },
      "source": [
        "<a href=\"https://colab.research.google.com/github/ajayhukam/Policy-Optimization/blob/main/PolicyOptimizationML.ipynb\" target=\"_parent\"><img src=\"https://colab.research.google.com/assets/colab-badge.svg\" alt=\"Open In Colab\"/></a>"
      ]
    },
    {
      "cell_type": "markdown",
      "source": [
        "**Installing Requirements**"
      ],
      "metadata": {
        "id": "p80vr3xQg9Gc"
      }
    },
    {
      "cell_type": "code",
      "execution_count": 1,
      "metadata": {
        "colab": {
          "base_uri": "https://localhost:8080/"
        },
        "id": "6UIE9ZBH4_Ad",
        "outputId": "e944fcbd-823b-4f88-b22c-342d6b7bd22b"
      },
      "outputs": [
        {
          "output_type": "stream",
          "name": "stderr",
          "text": [
            "Gym has been unmaintained since 2022 and does not support NumPy 2.0 amongst other critical functionality.\n",
            "Please upgrade to Gymnasium, the maintained drop-in replacement of Gym, or contact the authors of your software and request that they upgrade.\n",
            "See the migration guide at https://gymnasium.farama.org/introduction/migration_guide/ for additional information.\n",
            "/usr/local/lib/python3.12/dist-packages/jupyter_client/session.py:203: DeprecationWarning: datetime.datetime.utcnow() is deprecated and scheduled for removal in a future version. Use timezone-aware objects to represent datetimes in UTC: datetime.datetime.now(datetime.UTC).\n",
            "  return datetime.utcnow().replace(tzinfo=utc)\n",
            "/usr/local/lib/python3.12/dist-packages/jupyter_client/session.py:203: DeprecationWarning: datetime.datetime.utcnow() is deprecated and scheduled for removal in a future version. Use timezone-aware objects to represent datetimes in UTC: datetime.datetime.now(datetime.UTC).\n",
            "  return datetime.utcnow().replace(tzinfo=utc)\n"
          ]
        },
        {
          "output_type": "execute_result",
          "data": {
            "text/plain": [
              "<torch._C.Generator at 0x7b061f1f2110>"
            ]
          },
          "metadata": {},
          "execution_count": 1
        }
      ],
      "source": [
        "\n",
        "import os\n",
        "import numpy as np\n",
        "import pandas as pd\n",
        "import matplotlib.pyplot as plt\n",
        "import seaborn as sns\n",
        "from tqdm import tqdm\n",
        "import gym\n",
        "\n",
        "from sklearn.model_selection import train_test_split\n",
        "from sklearn.compose import ColumnTransformer\n",
        "from sklearn.preprocessing import OneHotEncoder, StandardScaler\n",
        "from sklearn.impute import SimpleImputer\n",
        "from sklearn.metrics import roc_auc_score, f1_score, classification_report, roc_curve, auc\n",
        "\n",
        "import torch\n",
        "import torch.nn as nn\n",
        "from torch.utils.data import TensorDataset, DataLoader\n",
        "\n",
        "# from d3rlpy.algos import CQL\n",
        "# from d3rlpy.datasets import MDPDataset\n",
        "\n",
        "SEED = 42\n",
        "np.random.seed(SEED)\n",
        "torch.manual_seed(SEED)\n"
      ]
    },
    {
      "cell_type": "markdown",
      "source": [
        "**Load dataset (focused columns) & initial filtering — Task 1**"
      ],
      "metadata": {
        "id": "uiZSC6GIhJhM"
      }
    },
    {
      "cell_type": "code",
      "source": [
        "DATA_PATH = \"/content/accepted_2007_to_2018Q4.csv\"\n",
        "SAMPLE_FRAC = 0.25\n",
        "USECOLS = [\n",
        "    'loan_amnt', 'term', 'int_rate', 'grade', 'sub_grade',\n",
        "    'emp_length', 'home_ownership', 'annual_inc', 'verification_status',\n",
        "    'purpose', 'addr_state', 'dti', 'delinq_2yrs', 'revol_util',\n",
        "    'total_acc', 'open_acc', 'pub_rec', 'loan_status'\n",
        "]\n",
        "\n",
        "print(\"Reading CSV\")\n",
        "df = pd.read_csv(DATA_PATH, usecols=USECOLS, low_memory=False)\n",
        "print(\"Original rows:\", len(df))\n",
        "if SAMPLE_FRAC < 1.0:\n",
        "    df = df.sample(frac=SAMPLE_FRAC, random_state=SEED).reset_index(drop=True)\n",
        "    print(\"After sampling rows:\", len(df))\n",
        "\n",
        "good_status = ['Fully Paid', 'Charged Off']\n",
        "df = df[df['loan_status'].isin(good_status)].copy()\n",
        "print(\"After status filtering (Fully Paid / Charged Off):\", len(df))\n",
        "\n",
        "display(df.head())\n",
        "display(df['loan_status'].value_counts())\n"
      ],
      "metadata": {
        "colab": {
          "base_uri": "https://localhost:8080/",
          "height": 612
        },
        "id": "zfxn20Qg7CcO",
        "outputId": "097083aa-5aaa-4321-cd68-f136f102a13a"
      },
      "execution_count": 2,
      "outputs": [
        {
          "output_type": "stream",
          "name": "stdout",
          "text": [
            "Reading CSV\n",
            "Original rows: 39037\n",
            "After sampling rows: 9759\n",
            "After status filtering (Fully Paid / Charged Off): 8543\n"
          ]
        },
        {
          "output_type": "stream",
          "name": "stderr",
          "text": [
            "/usr/local/lib/python3.12/dist-packages/jupyter_client/session.py:203: DeprecationWarning: datetime.datetime.utcnow() is deprecated and scheduled for removal in a future version. Use timezone-aware objects to represent datetimes in UTC: datetime.datetime.now(datetime.UTC).\n",
            "  return datetime.utcnow().replace(tzinfo=utc)\n"
          ]
        },
        {
          "output_type": "display_data",
          "data": {
            "text/plain": [
              "   loan_amnt        term  int_rate grade sub_grade emp_length home_ownership  \\\n",
              "0     5000.0   36 months      9.17     B        B2  10+ years       MORTGAGE   \n",
              "1    35000.0   60 months     18.20     E        E1  10+ years            OWN   \n",
              "2     9000.0   36 months      5.32     A        A1  10+ years       MORTGAGE   \n",
              "4     5000.0   36 months      8.38     B        B1    2 years           RENT   \n",
              "5    12000.0   36 months      8.38     B        B1    5 years            OWN   \n",
              "\n",
              "   annual_inc verification_status  loan_status             purpose addr_state  \\\n",
              "0     40000.0        Not Verified   Fully Paid  debt_consolidation         LA   \n",
              "1    170000.0            Verified  Charged Off         credit_card         CA   \n",
              "2    166400.0        Not Verified   Fully Paid         credit_card         MA   \n",
              "4     29000.0        Not Verified   Fully Paid  debt_consolidation         PA   \n",
              "5     71000.0     Source Verified   Fully Paid         credit_card         MD   \n",
              "\n",
              "     dti  delinq_2yrs  open_acc  pub_rec  revol_util  total_acc  \n",
              "0  20.25          0.0      20.0      0.0        46.8       36.0  \n",
              "1  11.88          1.0       5.0      0.0        36.5        8.0  \n",
              "2  12.79          0.0      11.0      0.0        62.3       30.0  \n",
              "4   6.89          0.0       8.0      0.0        38.1       27.0  \n",
              "5   4.68          0.0      10.0      0.0        35.3       37.0  "
            ],
            "text/html": [
              "\n",
              "  <div id=\"df-0f708759-cebc-434c-ab0e-6d33a5296bc8\" class=\"colab-df-container\">\n",
              "    <div>\n",
              "<style scoped>\n",
              "    .dataframe tbody tr th:only-of-type {\n",
              "        vertical-align: middle;\n",
              "    }\n",
              "\n",
              "    .dataframe tbody tr th {\n",
              "        vertical-align: top;\n",
              "    }\n",
              "\n",
              "    .dataframe thead th {\n",
              "        text-align: right;\n",
              "    }\n",
              "</style>\n",
              "<table border=\"1\" class=\"dataframe\">\n",
              "  <thead>\n",
              "    <tr style=\"text-align: right;\">\n",
              "      <th></th>\n",
              "      <th>loan_amnt</th>\n",
              "      <th>term</th>\n",
              "      <th>int_rate</th>\n",
              "      <th>grade</th>\n",
              "      <th>sub_grade</th>\n",
              "      <th>emp_length</th>\n",
              "      <th>home_ownership</th>\n",
              "      <th>annual_inc</th>\n",
              "      <th>verification_status</th>\n",
              "      <th>loan_status</th>\n",
              "      <th>purpose</th>\n",
              "      <th>addr_state</th>\n",
              "      <th>dti</th>\n",
              "      <th>delinq_2yrs</th>\n",
              "      <th>open_acc</th>\n",
              "      <th>pub_rec</th>\n",
              "      <th>revol_util</th>\n",
              "      <th>total_acc</th>\n",
              "    </tr>\n",
              "  </thead>\n",
              "  <tbody>\n",
              "    <tr>\n",
              "      <th>0</th>\n",
              "      <td>5000.0</td>\n",
              "      <td>36 months</td>\n",
              "      <td>9.17</td>\n",
              "      <td>B</td>\n",
              "      <td>B2</td>\n",
              "      <td>10+ years</td>\n",
              "      <td>MORTGAGE</td>\n",
              "      <td>40000.0</td>\n",
              "      <td>Not Verified</td>\n",
              "      <td>Fully Paid</td>\n",
              "      <td>debt_consolidation</td>\n",
              "      <td>LA</td>\n",
              "      <td>20.25</td>\n",
              "      <td>0.0</td>\n",
              "      <td>20.0</td>\n",
              "      <td>0.0</td>\n",
              "      <td>46.8</td>\n",
              "      <td>36.0</td>\n",
              "    </tr>\n",
              "    <tr>\n",
              "      <th>1</th>\n",
              "      <td>35000.0</td>\n",
              "      <td>60 months</td>\n",
              "      <td>18.20</td>\n",
              "      <td>E</td>\n",
              "      <td>E1</td>\n",
              "      <td>10+ years</td>\n",
              "      <td>OWN</td>\n",
              "      <td>170000.0</td>\n",
              "      <td>Verified</td>\n",
              "      <td>Charged Off</td>\n",
              "      <td>credit_card</td>\n",
              "      <td>CA</td>\n",
              "      <td>11.88</td>\n",
              "      <td>1.0</td>\n",
              "      <td>5.0</td>\n",
              "      <td>0.0</td>\n",
              "      <td>36.5</td>\n",
              "      <td>8.0</td>\n",
              "    </tr>\n",
              "    <tr>\n",
              "      <th>2</th>\n",
              "      <td>9000.0</td>\n",
              "      <td>36 months</td>\n",
              "      <td>5.32</td>\n",
              "      <td>A</td>\n",
              "      <td>A1</td>\n",
              "      <td>10+ years</td>\n",
              "      <td>MORTGAGE</td>\n",
              "      <td>166400.0</td>\n",
              "      <td>Not Verified</td>\n",
              "      <td>Fully Paid</td>\n",
              "      <td>credit_card</td>\n",
              "      <td>MA</td>\n",
              "      <td>12.79</td>\n",
              "      <td>0.0</td>\n",
              "      <td>11.0</td>\n",
              "      <td>0.0</td>\n",
              "      <td>62.3</td>\n",
              "      <td>30.0</td>\n",
              "    </tr>\n",
              "    <tr>\n",
              "      <th>4</th>\n",
              "      <td>5000.0</td>\n",
              "      <td>36 months</td>\n",
              "      <td>8.38</td>\n",
              "      <td>B</td>\n",
              "      <td>B1</td>\n",
              "      <td>2 years</td>\n",
              "      <td>RENT</td>\n",
              "      <td>29000.0</td>\n",
              "      <td>Not Verified</td>\n",
              "      <td>Fully Paid</td>\n",
              "      <td>debt_consolidation</td>\n",
              "      <td>PA</td>\n",
              "      <td>6.89</td>\n",
              "      <td>0.0</td>\n",
              "      <td>8.0</td>\n",
              "      <td>0.0</td>\n",
              "      <td>38.1</td>\n",
              "      <td>27.0</td>\n",
              "    </tr>\n",
              "    <tr>\n",
              "      <th>5</th>\n",
              "      <td>12000.0</td>\n",
              "      <td>36 months</td>\n",
              "      <td>8.38</td>\n",
              "      <td>B</td>\n",
              "      <td>B1</td>\n",
              "      <td>5 years</td>\n",
              "      <td>OWN</td>\n",
              "      <td>71000.0</td>\n",
              "      <td>Source Verified</td>\n",
              "      <td>Fully Paid</td>\n",
              "      <td>credit_card</td>\n",
              "      <td>MD</td>\n",
              "      <td>4.68</td>\n",
              "      <td>0.0</td>\n",
              "      <td>10.0</td>\n",
              "      <td>0.0</td>\n",
              "      <td>35.3</td>\n",
              "      <td>37.0</td>\n",
              "    </tr>\n",
              "  </tbody>\n",
              "</table>\n",
              "</div>\n",
              "    <div class=\"colab-df-buttons\">\n",
              "\n",
              "  <div class=\"colab-df-container\">\n",
              "    <button class=\"colab-df-convert\" onclick=\"convertToInteractive('df-0f708759-cebc-434c-ab0e-6d33a5296bc8')\"\n",
              "            title=\"Convert this dataframe to an interactive table.\"\n",
              "            style=\"display:none;\">\n",
              "\n",
              "  <svg xmlns=\"http://www.w3.org/2000/svg\" height=\"24px\" viewBox=\"0 -960 960 960\">\n",
              "    <path d=\"M120-120v-720h720v720H120Zm60-500h600v-160H180v160Zm220 220h160v-160H400v160Zm0 220h160v-160H400v160ZM180-400h160v-160H180v160Zm440 0h160v-160H620v160ZM180-180h160v-160H180v160Zm440 0h160v-160H620v160Z\"/>\n",
              "  </svg>\n",
              "    </button>\n",
              "\n",
              "  <style>\n",
              "    .colab-df-container {\n",
              "      display:flex;\n",
              "      gap: 12px;\n",
              "    }\n",
              "\n",
              "    .colab-df-convert {\n",
              "      background-color: #E8F0FE;\n",
              "      border: none;\n",
              "      border-radius: 50%;\n",
              "      cursor: pointer;\n",
              "      display: none;\n",
              "      fill: #1967D2;\n",
              "      height: 32px;\n",
              "      padding: 0 0 0 0;\n",
              "      width: 32px;\n",
              "    }\n",
              "\n",
              "    .colab-df-convert:hover {\n",
              "      background-color: #E2EBFA;\n",
              "      box-shadow: 0px 1px 2px rgba(60, 64, 67, 0.3), 0px 1px 3px 1px rgba(60, 64, 67, 0.15);\n",
              "      fill: #174EA6;\n",
              "    }\n",
              "\n",
              "    .colab-df-buttons div {\n",
              "      margin-bottom: 4px;\n",
              "    }\n",
              "\n",
              "    [theme=dark] .colab-df-convert {\n",
              "      background-color: #3B4455;\n",
              "      fill: #D2E3FC;\n",
              "    }\n",
              "\n",
              "    [theme=dark] .colab-df-convert:hover {\n",
              "      background-color: #434B5C;\n",
              "      box-shadow: 0px 1px 3px 1px rgba(0, 0, 0, 0.15);\n",
              "      filter: drop-shadow(0px 1px 2px rgba(0, 0, 0, 0.3));\n",
              "      fill: #FFFFFF;\n",
              "    }\n",
              "  </style>\n",
              "\n",
              "    <script>\n",
              "      const buttonEl =\n",
              "        document.querySelector('#df-0f708759-cebc-434c-ab0e-6d33a5296bc8 button.colab-df-convert');\n",
              "      buttonEl.style.display =\n",
              "        google.colab.kernel.accessAllowed ? 'block' : 'none';\n",
              "\n",
              "      async function convertToInteractive(key) {\n",
              "        const element = document.querySelector('#df-0f708759-cebc-434c-ab0e-6d33a5296bc8');\n",
              "        const dataTable =\n",
              "          await google.colab.kernel.invokeFunction('convertToInteractive',\n",
              "                                                    [key], {});\n",
              "        if (!dataTable) return;\n",
              "\n",
              "        const docLinkHtml = 'Like what you see? Visit the ' +\n",
              "          '<a target=\"_blank\" href=https://colab.research.google.com/notebooks/data_table.ipynb>data table notebook</a>'\n",
              "          + ' to learn more about interactive tables.';\n",
              "        element.innerHTML = '';\n",
              "        dataTable['output_type'] = 'display_data';\n",
              "        await google.colab.output.renderOutput(dataTable, element);\n",
              "        const docLink = document.createElement('div');\n",
              "        docLink.innerHTML = docLinkHtml;\n",
              "        element.appendChild(docLink);\n",
              "      }\n",
              "    </script>\n",
              "  </div>\n",
              "\n",
              "\n",
              "    <div id=\"df-33c69604-71f5-4c7c-b484-63b5fc7e225a\">\n",
              "      <button class=\"colab-df-quickchart\" onclick=\"quickchart('df-33c69604-71f5-4c7c-b484-63b5fc7e225a')\"\n",
              "                title=\"Suggest charts\"\n",
              "                style=\"display:none;\">\n",
              "\n",
              "<svg xmlns=\"http://www.w3.org/2000/svg\" height=\"24px\"viewBox=\"0 0 24 24\"\n",
              "     width=\"24px\">\n",
              "    <g>\n",
              "        <path d=\"M19 3H5c-1.1 0-2 .9-2 2v14c0 1.1.9 2 2 2h14c1.1 0 2-.9 2-2V5c0-1.1-.9-2-2-2zM9 17H7v-7h2v7zm4 0h-2V7h2v10zm4 0h-2v-4h2v4z\"/>\n",
              "    </g>\n",
              "</svg>\n",
              "      </button>\n",
              "\n",
              "<style>\n",
              "  .colab-df-quickchart {\n",
              "      --bg-color: #E8F0FE;\n",
              "      --fill-color: #1967D2;\n",
              "      --hover-bg-color: #E2EBFA;\n",
              "      --hover-fill-color: #174EA6;\n",
              "      --disabled-fill-color: #AAA;\n",
              "      --disabled-bg-color: #DDD;\n",
              "  }\n",
              "\n",
              "  [theme=dark] .colab-df-quickchart {\n",
              "      --bg-color: #3B4455;\n",
              "      --fill-color: #D2E3FC;\n",
              "      --hover-bg-color: #434B5C;\n",
              "      --hover-fill-color: #FFFFFF;\n",
              "      --disabled-bg-color: #3B4455;\n",
              "      --disabled-fill-color: #666;\n",
              "  }\n",
              "\n",
              "  .colab-df-quickchart {\n",
              "    background-color: var(--bg-color);\n",
              "    border: none;\n",
              "    border-radius: 50%;\n",
              "    cursor: pointer;\n",
              "    display: none;\n",
              "    fill: var(--fill-color);\n",
              "    height: 32px;\n",
              "    padding: 0;\n",
              "    width: 32px;\n",
              "  }\n",
              "\n",
              "  .colab-df-quickchart:hover {\n",
              "    background-color: var(--hover-bg-color);\n",
              "    box-shadow: 0 1px 2px rgba(60, 64, 67, 0.3), 0 1px 3px 1px rgba(60, 64, 67, 0.15);\n",
              "    fill: var(--button-hover-fill-color);\n",
              "  }\n",
              "\n",
              "  .colab-df-quickchart-complete:disabled,\n",
              "  .colab-df-quickchart-complete:disabled:hover {\n",
              "    background-color: var(--disabled-bg-color);\n",
              "    fill: var(--disabled-fill-color);\n",
              "    box-shadow: none;\n",
              "  }\n",
              "\n",
              "  .colab-df-spinner {\n",
              "    border: 2px solid var(--fill-color);\n",
              "    border-color: transparent;\n",
              "    border-bottom-color: var(--fill-color);\n",
              "    animation:\n",
              "      spin 1s steps(1) infinite;\n",
              "  }\n",
              "\n",
              "  @keyframes spin {\n",
              "    0% {\n",
              "      border-color: transparent;\n",
              "      border-bottom-color: var(--fill-color);\n",
              "      border-left-color: var(--fill-color);\n",
              "    }\n",
              "    20% {\n",
              "      border-color: transparent;\n",
              "      border-left-color: var(--fill-color);\n",
              "      border-top-color: var(--fill-color);\n",
              "    }\n",
              "    30% {\n",
              "      border-color: transparent;\n",
              "      border-left-color: var(--fill-color);\n",
              "      border-top-color: var(--fill-color);\n",
              "      border-right-color: var(--fill-color);\n",
              "    }\n",
              "    40% {\n",
              "      border-color: transparent;\n",
              "      border-right-color: var(--fill-color);\n",
              "      border-top-color: var(--fill-color);\n",
              "    }\n",
              "    60% {\n",
              "      border-color: transparent;\n",
              "      border-right-color: var(--fill-color);\n",
              "    }\n",
              "    80% {\n",
              "      border-color: transparent;\n",
              "      border-right-color: var(--fill-color);\n",
              "      border-bottom-color: var(--fill-color);\n",
              "    }\n",
              "    90% {\n",
              "      border-color: transparent;\n",
              "      border-bottom-color: var(--fill-color);\n",
              "    }\n",
              "  }\n",
              "</style>\n",
              "\n",
              "      <script>\n",
              "        async function quickchart(key) {\n",
              "          const quickchartButtonEl =\n",
              "            document.querySelector('#' + key + ' button');\n",
              "          quickchartButtonEl.disabled = true;  // To prevent multiple clicks.\n",
              "          quickchartButtonEl.classList.add('colab-df-spinner');\n",
              "          try {\n",
              "            const charts = await google.colab.kernel.invokeFunction(\n",
              "                'suggestCharts', [key], {});\n",
              "          } catch (error) {\n",
              "            console.error('Error during call to suggestCharts:', error);\n",
              "          }\n",
              "          quickchartButtonEl.classList.remove('colab-df-spinner');\n",
              "          quickchartButtonEl.classList.add('colab-df-quickchart-complete');\n",
              "        }\n",
              "        (() => {\n",
              "          let quickchartButtonEl =\n",
              "            document.querySelector('#df-33c69604-71f5-4c7c-b484-63b5fc7e225a button');\n",
              "          quickchartButtonEl.style.display =\n",
              "            google.colab.kernel.accessAllowed ? 'block' : 'none';\n",
              "        })();\n",
              "      </script>\n",
              "    </div>\n",
              "\n",
              "    </div>\n",
              "  </div>\n"
            ],
            "application/vnd.google.colaboratory.intrinsic+json": {
              "type": "dataframe",
              "summary": "{\n  \"name\": \"display(df['loan_status']\",\n  \"rows\": 5,\n  \"fields\": [\n    {\n      \"column\": \"loan_amnt\",\n      \"properties\": {\n        \"dtype\": \"number\",\n        \"std\": 12537.942414925983,\n        \"min\": 5000.0,\n        \"max\": 35000.0,\n        \"num_unique_values\": 4,\n        \"samples\": [\n          35000.0,\n          12000.0,\n          5000.0\n        ],\n        \"semantic_type\": \"\",\n        \"description\": \"\"\n      }\n    },\n    {\n      \"column\": \"term\",\n      \"properties\": {\n        \"dtype\": \"category\",\n        \"num_unique_values\": 2,\n        \"samples\": [\n          \" 60 months\",\n          \" 36 months\"\n        ],\n        \"semantic_type\": \"\",\n        \"description\": \"\"\n      }\n    },\n    {\n      \"column\": \"int_rate\",\n      \"properties\": {\n        \"dtype\": \"number\",\n        \"std\": 4.873899875869425,\n        \"min\": 5.32,\n        \"max\": 18.2,\n        \"num_unique_values\": 4,\n        \"samples\": [\n          18.2,\n          8.38\n        ],\n        \"semantic_type\": \"\",\n        \"description\": \"\"\n      }\n    },\n    {\n      \"column\": \"grade\",\n      \"properties\": {\n        \"dtype\": \"string\",\n        \"num_unique_values\": 3,\n        \"samples\": [\n          \"B\",\n          \"E\"\n        ],\n        \"semantic_type\": \"\",\n        \"description\": \"\"\n      }\n    },\n    {\n      \"column\": \"sub_grade\",\n      \"properties\": {\n        \"dtype\": \"string\",\n        \"num_unique_values\": 4,\n        \"samples\": [\n          \"E1\",\n          \"B1\"\n        ],\n        \"semantic_type\": \"\",\n        \"description\": \"\"\n      }\n    },\n    {\n      \"column\": \"emp_length\",\n      \"properties\": {\n        \"dtype\": \"string\",\n        \"num_unique_values\": 3,\n        \"samples\": [\n          \"10+ years\",\n          \"2 years\"\n        ],\n        \"semantic_type\": \"\",\n        \"description\": \"\"\n      }\n    },\n    {\n      \"column\": \"home_ownership\",\n      \"properties\": {\n        \"dtype\": \"string\",\n        \"num_unique_values\": 3,\n        \"samples\": [\n          \"MORTGAGE\",\n          \"OWN\"\n        ],\n        \"semantic_type\": \"\",\n        \"description\": \"\"\n      }\n    },\n    {\n      \"column\": \"annual_inc\",\n      \"properties\": {\n        \"dtype\": \"number\",\n        \"std\": 68336.60805161462,\n        \"min\": 29000.0,\n        \"max\": 170000.0,\n        \"num_unique_values\": 5,\n        \"samples\": [\n          170000.0,\n          71000.0\n        ],\n        \"semantic_type\": \"\",\n        \"description\": \"\"\n      }\n    },\n    {\n      \"column\": \"verification_status\",\n      \"properties\": {\n        \"dtype\": \"string\",\n        \"num_unique_values\": 3,\n        \"samples\": [\n          \"Not Verified\",\n          \"Verified\"\n        ],\n        \"semantic_type\": \"\",\n        \"description\": \"\"\n      }\n    },\n    {\n      \"column\": \"loan_status\",\n      \"properties\": {\n        \"dtype\": \"category\",\n        \"num_unique_values\": 2,\n        \"samples\": [\n          \"Charged Off\",\n          \"Fully Paid\"\n        ],\n        \"semantic_type\": \"\",\n        \"description\": \"\"\n      }\n    },\n    {\n      \"column\": \"purpose\",\n      \"properties\": {\n        \"dtype\": \"category\",\n        \"num_unique_values\": 2,\n        \"samples\": [\n          \"credit_card\",\n          \"debt_consolidation\"\n        ],\n        \"semantic_type\": \"\",\n        \"description\": \"\"\n      }\n    },\n    {\n      \"column\": \"addr_state\",\n      \"properties\": {\n        \"dtype\": \"string\",\n        \"num_unique_values\": 5,\n        \"samples\": [\n          \"CA\",\n          \"MD\"\n        ],\n        \"semantic_type\": \"\",\n        \"description\": \"\"\n      }\n    },\n    {\n      \"column\": \"dti\",\n      \"properties\": {\n        \"dtype\": \"number\",\n        \"std\": 6.040105131535378,\n        \"min\": 4.68,\n        \"max\": 20.25,\n        \"num_unique_values\": 5,\n        \"samples\": [\n          11.88,\n          4.68\n        ],\n        \"semantic_type\": \"\",\n        \"description\": \"\"\n      }\n    },\n    {\n      \"column\": \"delinq_2yrs\",\n      \"properties\": {\n        \"dtype\": \"number\",\n        \"std\": 0.44721359549995804,\n        \"min\": 0.0,\n        \"max\": 1.0,\n        \"num_unique_values\": 2,\n        \"samples\": [\n          1.0,\n          0.0\n        ],\n        \"semantic_type\": \"\",\n        \"description\": \"\"\n      }\n    },\n    {\n      \"column\": \"open_acc\",\n      \"properties\": {\n        \"dtype\": \"number\",\n        \"std\": 5.630275304103699,\n        \"min\": 5.0,\n        \"max\": 20.0,\n        \"num_unique_values\": 5,\n        \"samples\": [\n          5.0,\n          10.0\n        ],\n        \"semantic_type\": \"\",\n        \"description\": \"\"\n      }\n    },\n    {\n      \"column\": \"pub_rec\",\n      \"properties\": {\n        \"dtype\": \"number\",\n        \"std\": 0.0,\n        \"min\": 0.0,\n        \"max\": 0.0,\n        \"num_unique_values\": 1,\n        \"samples\": [\n          0.0\n        ],\n        \"semantic_type\": \"\",\n        \"description\": \"\"\n      }\n    },\n    {\n      \"column\": \"revol_util\",\n      \"properties\": {\n        \"dtype\": \"number\",\n        \"std\": 11.283616441549224,\n        \"min\": 35.3,\n        \"max\": 62.3,\n        \"num_unique_values\": 5,\n        \"samples\": [\n          36.5\n        ],\n        \"semantic_type\": \"\",\n        \"description\": \"\"\n      }\n    },\n    {\n      \"column\": \"total_acc\",\n      \"properties\": {\n        \"dtype\": \"number\",\n        \"std\": 11.717508267545622,\n        \"min\": 8.0,\n        \"max\": 37.0,\n        \"num_unique_values\": 5,\n        \"samples\": [\n          8.0\n        ],\n        \"semantic_type\": \"\",\n        \"description\": \"\"\n      }\n    }\n  ]\n}"
            }
          },
          "metadata": {}
        },
        {
          "output_type": "display_data",
          "data": {
            "text/plain": [
              "loan_status\n",
              "Fully Paid     6826\n",
              "Charged Off    1717\n",
              "Name: count, dtype: int64"
            ],
            "text/html": [
              "<div>\n",
              "<style scoped>\n",
              "    .dataframe tbody tr th:only-of-type {\n",
              "        vertical-align: middle;\n",
              "    }\n",
              "\n",
              "    .dataframe tbody tr th {\n",
              "        vertical-align: top;\n",
              "    }\n",
              "\n",
              "    .dataframe thead th {\n",
              "        text-align: right;\n",
              "    }\n",
              "</style>\n",
              "<table border=\"1\" class=\"dataframe\">\n",
              "  <thead>\n",
              "    <tr style=\"text-align: right;\">\n",
              "      <th></th>\n",
              "      <th>count</th>\n",
              "    </tr>\n",
              "    <tr>\n",
              "      <th>loan_status</th>\n",
              "      <th></th>\n",
              "    </tr>\n",
              "  </thead>\n",
              "  <tbody>\n",
              "    <tr>\n",
              "      <th>Fully Paid</th>\n",
              "      <td>6826</td>\n",
              "    </tr>\n",
              "    <tr>\n",
              "      <th>Charged Off</th>\n",
              "      <td>1717</td>\n",
              "    </tr>\n",
              "  </tbody>\n",
              "</table>\n",
              "</div><br><label><b>dtype:</b> int64</label>"
            ]
          },
          "metadata": {}
        },
        {
          "output_type": "stream",
          "name": "stderr",
          "text": [
            "/usr/local/lib/python3.12/dist-packages/jupyter_client/session.py:203: DeprecationWarning: datetime.datetime.utcnow() is deprecated and scheduled for removal in a future version. Use timezone-aware objects to represent datetimes in UTC: datetime.datetime.now(datetime.UTC).\n",
            "  return datetime.utcnow().replace(tzinfo=utc)\n"
          ]
        }
      ]
    },
    {
      "cell_type": "markdown",
      "source": [
        "**Target creation & simple EDA**"
      ],
      "metadata": {
        "id": "DbN4CcyDhTVV"
      }
    },
    {
      "cell_type": "code",
      "source": [
        "df['defaulted'] = (df['loan_status'] == 'Charged Off').astype(int)\n",
        "\n",
        "print(df.describe(include='all').T)\n",
        "\n",
        "missing = df.isna().mean().sort_values(ascending=False)\n",
        "print(\"Missing fraction per column:\\n\", missing)\n",
        "\n",
        "plt.figure(figsize=(8,4))\n",
        "sns.boxplot(x='defaulted', y='loan_amnt', data=df)\n",
        "plt.title(\"Loan amount by default status (0:paid,1:charged off)\")\n",
        "plt.show()\n",
        "\n",
        "print(\"Overall default rate:\", df['defaulted'].mean())"
      ],
      "metadata": {
        "colab": {
          "base_uri": "https://localhost:8080/",
          "height": 1000
        },
        "id": "HMOyH-Yt-Qe-",
        "outputId": "fa4ba1ed-c963-40af-ff8b-b39ca6cb154e"
      },
      "execution_count": 3,
      "outputs": [
        {
          "output_type": "stream",
          "name": "stdout",
          "text": [
            "                      count unique                 top  freq          mean  \\\n",
            "loan_amnt            8543.0    NaN                 NaN   NaN  14493.693667   \n",
            "term                   8543      2           36 months  6627           NaN   \n",
            "int_rate             8543.0    NaN                 NaN   NaN     12.062578   \n",
            "grade                  8543      7                   B  2638           NaN   \n",
            "sub_grade              8543     35                  C1   595           NaN   \n",
            "emp_length             8003     11           10+ years  2798           NaN   \n",
            "home_ownership         8543      3            MORTGAGE  4191           NaN   \n",
            "annual_inc           8543.0    NaN                 NaN   NaN  79285.614416   \n",
            "verification_status    8543      3     Source Verified  3529           NaN   \n",
            "loan_status            8543      2          Fully Paid  6826           NaN   \n",
            "purpose                8543     12  debt_consolidation  4800           NaN   \n",
            "addr_state             8543     49                  CA  1214           NaN   \n",
            "dti                  8543.0    NaN                 NaN   NaN     19.191075   \n",
            "delinq_2yrs          8543.0    NaN                 NaN   NaN      0.340044   \n",
            "open_acc             8543.0    NaN                 NaN   NaN     12.095868   \n",
            "pub_rec              8543.0    NaN                 NaN   NaN      0.246049   \n",
            "revol_util           8538.0    NaN                 NaN   NaN     51.083872   \n",
            "total_acc            8543.0    NaN                 NaN   NaN     25.468922   \n",
            "defaulted            8543.0    NaN                 NaN   NaN      0.200983   \n",
            "\n",
            "                              std     min      25%      50%      75%  \\\n",
            "loan_amnt              8700.65898  1000.0   7925.0  12075.0  20000.0   \n",
            "term                          NaN     NaN      NaN      NaN      NaN   \n",
            "int_rate                 4.198079    5.32     9.17    11.99    14.48   \n",
            "grade                         NaN     NaN      NaN      NaN      NaN   \n",
            "sub_grade                     NaN     NaN      NaN      NaN      NaN   \n",
            "emp_length                    NaN     NaN      NaN      NaN      NaN   \n",
            "home_ownership                NaN     NaN      NaN      NaN      NaN   \n",
            "annual_inc           62340.561704  1770.0  48000.0  67000.0  95000.0   \n",
            "verification_status           NaN     NaN      NaN      NaN      NaN   \n",
            "loan_status                   NaN     NaN      NaN      NaN      NaN   \n",
            "purpose                       NaN     NaN      NaN      NaN      NaN   \n",
            "addr_state                    NaN     NaN      NaN      NaN      NaN   \n",
            "dti                     13.812633     0.0     12.4    18.53   25.415   \n",
            "delinq_2yrs              0.889543     0.0      0.0      0.0      0.0   \n",
            "open_acc                 5.802196     1.0      8.0     11.0     15.0   \n",
            "pub_rec                  0.643466     0.0      0.0      0.0      0.0   \n",
            "revol_util              24.270922     0.0     33.0     51.0     69.4   \n",
            "total_acc               12.180775     4.0     17.0     24.0     32.0   \n",
            "defaulted                0.400759     0.0      0.0      0.0      0.0   \n",
            "\n",
            "                           max  \n",
            "loan_amnt              35000.0  \n",
            "term                       NaN  \n",
            "int_rate                 28.99  \n",
            "grade                      NaN  \n",
            "sub_grade                  NaN  \n",
            "emp_length                 NaN  \n",
            "home_ownership             NaN  \n",
            "annual_inc           2500000.0  \n",
            "verification_status        NaN  \n",
            "loan_status                NaN  \n",
            "purpose                    NaN  \n",
            "addr_state                 NaN  \n",
            "dti                      999.0  \n",
            "delinq_2yrs               14.0  \n",
            "open_acc                  67.0  \n",
            "pub_rec                   11.0  \n",
            "revol_util               134.3  \n",
            "total_acc                105.0  \n",
            "defaulted                  1.0  \n",
            "Missing fraction per column:\n",
            " emp_length             0.063210\n",
            "revol_util             0.000585\n",
            "loan_amnt              0.000000\n",
            "int_rate               0.000000\n",
            "term                   0.000000\n",
            "sub_grade              0.000000\n",
            "grade                  0.000000\n",
            "annual_inc             0.000000\n",
            "verification_status    0.000000\n",
            "loan_status            0.000000\n",
            "home_ownership         0.000000\n",
            "purpose                0.000000\n",
            "addr_state             0.000000\n",
            "delinq_2yrs            0.000000\n",
            "dti                    0.000000\n",
            "open_acc               0.000000\n",
            "pub_rec                0.000000\n",
            "total_acc              0.000000\n",
            "defaulted              0.000000\n",
            "dtype: float64\n"
          ]
        },
        {
          "output_type": "stream",
          "name": "stderr",
          "text": [
            "/usr/local/lib/python3.12/dist-packages/jupyter_client/session.py:203: DeprecationWarning: datetime.datetime.utcnow() is deprecated and scheduled for removal in a future version. Use timezone-aware objects to represent datetimes in UTC: datetime.datetime.now(datetime.UTC).\n",
            "  return datetime.utcnow().replace(tzinfo=utc)\n"
          ]
        },
        {
          "output_type": "display_data",
          "data": {
            "text/plain": [
              "<Figure size 800x400 with 1 Axes>"
            ],
            "image/png": "[encoded data removed]"
          },
          "metadata": {}
        },
        {
          "output_type": "stream",
          "name": "stdout",
          "text": [
            "Overall default rate: 0.2009832611494791\n"
          ]
        }
      ]
    },
    {
      "cell_type": "markdown",
      "source": [
        "**Feature cleaning helpers**"
      ],
      "metadata": {
        "id": "kj6CbjtphanP"
      }
    },
    {
      "cell_type": "code",
      "source": [
        "def parse_term(x):\n",
        "    if pd.isna(x): return np.nan\n",
        "    return int(x.split()[0])\n",
        "\n",
        "def parse_percent_str(x):\n",
        "    if pd.isna(x):\n",
        "        return np.nan\n",
        "    if isinstance(x, str) and '%' in x:\n",
        "        return float(x.strip().replace('%',''))/100.0\n",
        "    try:\n",
        "        return float(x)\n",
        "    except:\n",
        "        return np.nan\n",
        "\n",
        "import re\n",
        "def parse_emp_length(x):\n",
        "    if pd.isna(x): return np.nan\n",
        "    if x.strip() == 'n/a':\n",
        "        return np.nan\n",
        "    if '10+' in x:\n",
        "        return 10\n",
        "    if '< 1' in x:\n",
        "        return 0\n",
        "    m = re.search(r'(\\d+)', x)\n",
        "    return int(m.group(1)) if m else np.nan\n",
        "\n",
        "df['term'] = df['term'].apply(parse_term)\n",
        "df['int_rate'] = df['int_rate'].apply(parse_percent_str)\n",
        "df['revol_util'] = df['revol_util'].apply(parse_percent_str)\n",
        "df['emp_length'] = df['emp_length'].apply(parse_emp_length)\n"
      ],
      "metadata": {
        "id": "B_53KMmgBaW2"
      },
      "execution_count": 4,
      "outputs": []
    },
    {
      "cell_type": "markdown",
      "source": [
        "**Feature selection & preprocessing pipeline**"
      ],
      "metadata": {
        "id": "c5GXmi3VhnA8"
      }
    },
    {
      "cell_type": "code",
      "source": [
        "NUMERIC_COLS = ['loan_amnt','int_rate','annual_inc','dti','revol_util',\n",
        "                'total_acc','open_acc','pub_rec','delinq_2yrs','emp_length']\n",
        "CAT_COLS = ['term','grade','sub_grade','home_ownership','verification_status','purpose','addr_state']\n",
        "\n",
        "for c in NUMERIC_COLS + CAT_COLS:\n",
        "    if c not in df.columns:\n",
        "        print(\"Warning: column missing:\", c)\n",
        "\n",
        "X_df = df[NUMERIC_COLS + CAT_COLS].copy()\n",
        "y = df['defaulted'].values\n",
        "loan_amnt = df['loan_amnt'].values\n",
        "int_rate_decimal = df['int_rate'].values\n",
        "\n",
        "numeric_transformer = Pipeline = None\n",
        "from sklearn.pipeline import Pipeline\n",
        "numeric_transformer = Pipeline([\n",
        "    ('imputer', SimpleImputer(strategy='median')),\n",
        "    ('scaler', StandardScaler())\n",
        "])\n",
        "categorical_transformer = Pipeline([\n",
        "    ('imputer', SimpleImputer(strategy='constant', fill_value='Unknown')),\n",
        "    ('onehot', OneHotEncoder(handle_unknown='ignore', sparse_output=False))\n",
        "])\n",
        "preprocessor = ColumnTransformer([\n",
        "    ('num', numeric_transformer, NUMERIC_COLS),\n",
        "    ('cat', categorical_transformer, CAT_COLS)\n",
        "], remainder='drop')\n",
        "\n",
        "X_train_df, X_test_df, y_train, y_test, loanamnt_train, loanamnt_test, int_rate_train, int_rate_test = \\\n",
        "    train_test_split(X_df, y, loan_amnt, int_rate_decimal, test_size=0.20, stratify=y, random_state=SEED)\n",
        "\n",
        "X_train_df, X_val_df, y_train, y_val, loanamnt_train, loanamnt_val, int_rate_train, int_rate_val = \\\n",
        "    train_test_split(X_train_df, y_train, loanamnt_train, int_rate_train, test_size=0.2, stratify=y_train, random_state=SEED)\n",
        "\n",
        "print(\"Train / Val / Test sizes:\", len(X_train_df), len(X_val_df), len(X_test_df))\n",
        "\n",
        "preprocessor.fit(X_train_df)\n",
        "\n",
        "X_train = preprocessor.transform(X_train_df)\n",
        "X_val = preprocessor.transform(X_val_df)\n",
        "X_test = preprocessor.transform(X_test_df)\n",
        "\n",
        "print(\"Feature matrix shape (train):\", X_train.shape)"
      ],
      "metadata": {
        "colab": {
          "base_uri": "https://localhost:8080/"
        },
        "id": "voaw3CjpBvSu",
        "outputId": "8369113c-42c0-41a3-f185-375e565d3f32"
      },
      "execution_count": 5,
      "outputs": [
        {
          "output_type": "stream",
          "name": "stdout",
          "text": [
            "Train / Val / Test sizes: 5467 1367 1709\n",
            "Feature matrix shape (train): (5467, 121)\n"
          ]
        },
        {
          "output_type": "stream",
          "name": "stderr",
          "text": [
            "/usr/local/lib/python3.12/dist-packages/jupyter_client/session.py:203: DeprecationWarning: datetime.datetime.utcnow() is deprecated and scheduled for removal in a future version. Use timezone-aware objects to represent datetimes in UTC: datetime.datetime.now(datetime.UTC).\n",
            "  return datetime.utcnow().replace(tzinfo=utc)\n"
          ]
        }
      ]
    },
    {
      "cell_type": "markdown",
      "source": [
        "**Supervised deep learning model (MLP) — training & evaluation**"
      ],
      "metadata": {
        "id": "RJSyav1YhwNm"
      }
    },
    {
      "cell_type": "code",
      "source": [
        "def make_loader(X, y, batch_size=256, shuffle=True):\n",
        "    X_t = torch.tensor(X, dtype=torch.float32)\n",
        "    y_t = torch.tensor(y.reshape(-1,1), dtype=torch.float32)\n",
        "    ds = TensorDataset(X_t, y_t)\n",
        "    return DataLoader(ds, batch_size=batch_size, shuffle=shuffle)\n",
        "\n",
        "train_loader = make_loader(X_train, y_train, batch_size=512, shuffle=True)\n",
        "val_loader = make_loader(X_val, y_val, batch_size=1024, shuffle=False)\n",
        "\n",
        "class MLPClassifier(nn.Module):\n",
        "    def __init__(self, input_dim, hidden_dims=[128,64,32], dropout=0.2):\n",
        "        super().__init__()\n",
        "        layers = []\n",
        "        prev = input_dim\n",
        "        for h in hidden_dims:\n",
        "            layers.append(nn.Linear(prev, h))\n",
        "            layers.append(nn.ReLU())\n",
        "            layers.append(nn.Dropout(dropout))\n",
        "            prev = h\n",
        "        layers.append(nn.Linear(prev, 1))\n",
        "        self.net = nn.Sequential(*layers)\n",
        "\n",
        "    def forward(self, x):\n",
        "        return self.net(x).squeeze(-1)\n",
        "\n",
        "input_dim = X_train.shape[1]\n",
        "model = MLPClassifier(input_dim, hidden_dims=[256,128,64], dropout=0.2)\n",
        "device = torch.device('cuda' if torch.cuda.is_available() else 'cpu')\n",
        "model.to(device)\n",
        "print(\"Using device:\", device)\n",
        "\n",
        "optimizer = torch.optim.Adam(model.parameters(), lr=1e-3, weight_decay=1e-5)\n",
        "criterion = nn.BCEWithLogitsLoss()\n",
        "\n",
        "EPOCHS = 20\n",
        "best_val_auc = 0.0\n",
        "for epoch in range(1, EPOCHS+1):\n",
        "    model.train()\n",
        "    total_loss = 0.0\n",
        "    for xb, yb in train_loader:\n",
        "        xb = xb.to(device); yb = yb.to(device)\n",
        "        logits = model(xb)\n",
        "        loss = criterion(logits, yb.squeeze(-1))\n",
        "        optimizer.zero_grad()\n",
        "        loss.backward()\n",
        "        optimizer.step()\n",
        "        total_loss += loss.item() * xb.size(0)\n",
        "    avg_train_loss = total_loss / len(train_loader.dataset)\n",
        "\n",
        "    model.eval()\n",
        "    all_logits = []\n",
        "    all_y = []\n",
        "    with torch.no_grad():\n",
        "        for xb, yb in val_loader:\n",
        "            xb = xb.to(device)\n",
        "            logits = model(xb)\n",
        "            all_logits.append(logits.cpu().numpy())\n",
        "            all_y.append(yb.numpy())\n",
        "    all_logits = np.concatenate(all_logits)\n",
        "    all_y = np.concatenate(all_y).reshape(-1)\n",
        "    probs = 1.0 / (1.0 + np.exp(-all_logits))\n",
        "    val_auc = roc_auc_score(all_y, probs)\n",
        "    # F1 at 0.5 threshold\n",
        "    preds = (probs >= 0.5).astype(int)\n",
        "    val_f1 = f1_score(all_y, preds)\n",
        "\n",
        "    print(f\"Epoch {epoch}/{EPOCHS}: train_loss={avg_train_loss:.4f}, val_auc={val_auc:.4f}, val_f1={val_f1:.4f}\")\n",
        "\n",
        "    if val_auc > best_val_auc:\n",
        "        best_val_auc = val_auc\n",
        "        torch.save(model.state_dict(), \"best_mlp.pt\")\n"
      ],
      "metadata": {
        "colab": {
          "base_uri": "https://localhost:8080/"
        },
        "id": "vxu9fwebCOgr",
        "outputId": "957482d4-18ea-4d50-e5d1-889f89325d6e"
      },
      "execution_count": 6,
      "outputs": [
        {
          "output_type": "stream",
          "name": "stdout",
          "text": [
            "Using device: cuda\n",
            "Epoch 1/20: train_loss=0.5981, val_auc=0.5555, val_f1=0.0000\n",
            "Epoch 2/20: train_loss=0.5005, val_auc=0.7020, val_f1=0.0000\n",
            "Epoch 3/20: train_loss=0.4675, val_auc=0.7253, val_f1=0.0000\n",
            "Epoch 4/20: train_loss=0.4537, val_auc=0.7304, val_f1=0.0000\n"
          ]
        },
        {
          "output_type": "stream",
          "name": "stderr",
          "text": [
            "/usr/local/lib/python3.12/dist-packages/jupyter_client/session.py:203: DeprecationWarning: datetime.datetime.utcnow() is deprecated and scheduled for removal in a future version. Use timezone-aware objects to represent datetimes in UTC: datetime.datetime.now(datetime.UTC).\n",
            "  return datetime.utcnow().replace(tzinfo=utc)\n"
          ]
        },
        {
          "output_type": "stream",
          "name": "stdout",
          "text": [
            "Epoch 5/20: train_loss=0.4468, val_auc=0.7319, val_f1=0.0000\n",
            "Epoch 6/20: train_loss=0.4453, val_auc=0.7317, val_f1=0.0000\n",
            "Epoch 7/20: train_loss=0.4393, val_auc=0.7297, val_f1=0.0000\n"
          ]
        },
        {
          "output_type": "stream",
          "name": "stderr",
          "text": [
            "/usr/local/lib/python3.12/dist-packages/jupyter_client/session.py:203: DeprecationWarning: datetime.datetime.utcnow() is deprecated and scheduled for removal in a future version. Use timezone-aware objects to represent datetimes in UTC: datetime.datetime.now(datetime.UTC).\n",
            "  return datetime.utcnow().replace(tzinfo=utc)\n",
            "/usr/local/lib/python3.12/dist-packages/jupyter_client/session.py:203: DeprecationWarning: datetime.datetime.utcnow() is deprecated and scheduled for removal in a future version. Use timezone-aware objects to represent datetimes in UTC: datetime.datetime.now(datetime.UTC).\n",
            "  return datetime.utcnow().replace(tzinfo=utc)\n"
          ]
        },
        {
          "output_type": "stream",
          "name": "stdout",
          "text": [
            "Epoch 8/20: train_loss=0.4385, val_auc=0.7283, val_f1=0.0000\n",
            "Epoch 9/20: train_loss=0.4333, val_auc=0.7253, val_f1=0.0000\n"
          ]
        },
        {
          "output_type": "stream",
          "name": "stderr",
          "text": [
            "/usr/local/lib/python3.12/dist-packages/jupyter_client/session.py:203: DeprecationWarning: datetime.datetime.utcnow() is deprecated and scheduled for removal in a future version. Use timezone-aware objects to represent datetimes in UTC: datetime.datetime.now(datetime.UTC).\n",
            "  return datetime.utcnow().replace(tzinfo=utc)\n"
          ]
        },
        {
          "output_type": "stream",
          "name": "stdout",
          "text": [
            "Epoch 10/20: train_loss=0.4324, val_auc=0.7239, val_f1=0.0692\n",
            "Epoch 11/20: train_loss=0.4279, val_auc=0.7196, val_f1=0.2175\n",
            "Epoch 12/20: train_loss=0.4249, val_auc=0.7168, val_f1=0.2957\n"
          ]
        },
        {
          "output_type": "stream",
          "name": "stderr",
          "text": [
            "/usr/local/lib/python3.12/dist-packages/jupyter_client/session.py:203: DeprecationWarning: datetime.datetime.utcnow() is deprecated and scheduled for removal in a future version. Use timezone-aware objects to represent datetimes in UTC: datetime.datetime.now(datetime.UTC).\n",
            "  return datetime.utcnow().replace(tzinfo=utc)\n"
          ]
        },
        {
          "output_type": "stream",
          "name": "stdout",
          "text": [
            "Epoch 13/20: train_loss=0.4179, val_auc=0.7157, val_f1=0.2571\n",
            "Epoch 14/20: train_loss=0.4135, val_auc=0.7095, val_f1=0.2888\n",
            "Epoch 15/20: train_loss=0.4053, val_auc=0.7076, val_f1=0.3174\n"
          ]
        },
        {
          "output_type": "stream",
          "name": "stderr",
          "text": [
            "/usr/local/lib/python3.12/dist-packages/jupyter_client/session.py:203: DeprecationWarning: datetime.datetime.utcnow() is deprecated and scheduled for removal in a future version. Use timezone-aware objects to represent datetimes in UTC: datetime.datetime.now(datetime.UTC).\n",
            "  return datetime.utcnow().replace(tzinfo=utc)\n"
          ]
        },
        {
          "output_type": "stream",
          "name": "stdout",
          "text": [
            "Epoch 16/20: train_loss=0.4000, val_auc=0.6990, val_f1=0.3077\n",
            "Epoch 17/20: train_loss=0.3853, val_auc=0.7041, val_f1=0.3316\n",
            "Epoch 18/20: train_loss=0.3740, val_auc=0.6947, val_f1=0.3231\n",
            "Epoch 19/20: train_loss=0.3710, val_auc=0.6931, val_f1=0.3406\n",
            "Epoch 20/20: train_loss=0.3556, val_auc=0.6835, val_f1=0.3418\n"
          ]
        },
        {
          "output_type": "stream",
          "name": "stderr",
          "text": [
            "/usr/local/lib/python3.12/dist-packages/jupyter_client/session.py:203: DeprecationWarning: datetime.datetime.utcnow() is deprecated and scheduled for removal in a future version. Use timezone-aware objects to represent datetimes in UTC: datetime.datetime.now(datetime.UTC).\n",
            "  return datetime.utcnow().replace(tzinfo=utc)\n",
            "/usr/local/lib/python3.12/dist-packages/jupyter_client/session.py:203: DeprecationWarning: datetime.datetime.utcnow() is deprecated and scheduled for removal in a future version. Use timezone-aware objects to represent datetimes in UTC: datetime.datetime.now(datetime.UTC).\n",
            "  return datetime.utcnow().replace(tzinfo=utc)\n"
          ]
        }
      ]
    },
    {
      "cell_type": "code",
      "source": [
        "model.load_state_dict(torch.load(\"best_mlp.pt\"))\n",
        "model.eval()\n",
        "\n",
        "test_loader = make_loader(X_test, y_test, batch_size=2048, shuffle=False)\n",
        "all_logits = []\n",
        "all_y = []\n",
        "with torch.no_grad():\n",
        "    for xb, yb in test_loader:\n",
        "        xb = xb.to(device)\n",
        "        logits = model(xb)\n",
        "        all_logits.append(logits.cpu().numpy())\n",
        "        all_y.append(yb.numpy())\n",
        "all_logits = np.concatenate(all_logits)\n",
        "all_y = np.concatenate(all_y).reshape(-1)\n",
        "probs_test = 1.0 / (1.0 + np.exp(-all_logits))\n",
        "preds_test = (probs_test >= 0.5).astype(int)\n",
        "\n",
        "test_auc = roc_auc_score(all_y, probs_test)\n",
        "test_f1 = f1_score(all_y, preds_test)\n",
        "print(\"Supervised MLP Test AUC:\", test_auc)\n",
        "print(\"Supervised MLP Test F1 (0.5 threshold):\", test_f1)\n",
        "print(classification_report(all_y, preds_test, digits=4, zero_division=1))\n"
      ],
      "metadata": {
        "colab": {
          "base_uri": "https://localhost:8080/"
        },
        "id": "rH8A8P39DdeV",
        "outputId": "48855597-7497-4608-f6fb-a9a14a3a6b99"
      },
      "execution_count": 7,
      "outputs": [
        {
          "output_type": "stream",
          "name": "stdout",
          "text": [
            "Supervised MLP Test AUC: 0.7401470104879433\n",
            "Supervised MLP Test F1 (0.5 threshold): 0.0\n",
            "              precision    recall  f1-score   support\n",
            "\n",
            "         0.0     0.7993    1.0000    0.8885      1366\n",
            "         1.0     1.0000    0.0000    0.0000       343\n",
            "\n",
            "    accuracy                         0.7993      1709\n",
            "   macro avg     0.8996    0.5000    0.4442      1709\n",
            "weighted avg     0.8396    0.7993    0.7101      1709\n",
            "\n"
          ]
        },
        {
          "output_type": "stream",
          "name": "stderr",
          "text": [
            "/usr/local/lib/python3.12/dist-packages/jupyter_client/session.py:203: DeprecationWarning: datetime.datetime.utcnow() is deprecated and scheduled for removal in a future version. Use timezone-aware objects to represent datetimes in UTC: datetime.datetime.now(datetime.UTC).\n",
            "  return datetime.utcnow().replace(tzinfo=utc)\n"
          ]
        }
      ]
    },
    {
      "cell_type": "code",
      "source": [
        "from sklearn.metrics import precision_recall_curve, average_precision_score\n",
        "\n",
        "precision, recall, _ = precision_recall_curve(all_y, probs_test)\n",
        "ap_score = average_precision_score(all_y, probs_test)\n",
        "\n",
        "plt.figure(figsize=(7, 6))\n",
        "plt.plot(recall, precision, label=f'PR Curve (AP = {ap_score:.3f})', linewidth=2)\n",
        "plt.xlabel('Recall', fontsize=12)\n",
        "plt.ylabel('Precision', fontsize=12)\n",
        "plt.title('Precision–Recall Curve', fontsize=14)\n",
        "plt.legend()\n",
        "plt.grid(True)\n",
        "plt.show()\n"
      ],
      "metadata": {
        "colab": {
          "base_uri": "https://localhost:8080/",
          "height": 624
        },
        "id": "fJtU1V1LjbaJ",
        "outputId": "9b861590-9481-4fe5-bf62-b8b224cd97a5"
      },
      "execution_count": 8,
      "outputs": [
        {
          "output_type": "display_data",
          "data": {
            "text/plain": [
              "<Figure size 700x600 with 1 Axes>"
            ],
            "image/png": "[encoded data removed]"
          },
          "metadata": {}
        },
        {
          "output_type": "stream",
          "name": "stderr",
          "text": [
            "/usr/local/lib/python3.12/dist-packages/jupyter_client/session.py:203: DeprecationWarning: datetime.datetime.utcnow() is deprecated and scheduled for removal in a future version. Use timezone-aware objects to represent datetimes in UTC: datetime.datetime.now(datetime.UTC).\n",
            "  return datetime.utcnow().replace(tzinfo=utc)\n"
          ]
        }
      ]
    },
    {
      "cell_type": "markdown",
      "source": [
        "**Task 3: Offline RL agent (state/action/reward) + training (CQL)**"
      ],
      "metadata": {
        "id": "sikNjVVxh6V-"
      }
    },
    {
      "cell_type": "code",
      "source": [
        "def compute_rewards(loan_amounts, int_rates, defaults):\n",
        "    rewards = np.where(defaults == 0, loan_amounts * int_rates, -loan_amounts)\n",
        "    return rewards.astype(np.float32)\n",
        "\n",
        "rewards_train = compute_rewards(loanamnt_train, int_rate_train, y_train)\n",
        "rewards_val = compute_rewards(loanamnt_val, int_rate_val, y_val)\n",
        "rewards_test = compute_rewards(loanamnt_test, int_rate_test, y_test)\n",
        "\n",
        "print(\"Example rewards (train):\", rewards_train[:6])\n"
      ],
      "metadata": {
        "colab": {
          "base_uri": "https://localhost:8080/"
        },
        "id": "QO-iBZABDzXw",
        "outputId": "7a926149-0170-4ee6-da8d-e5551654fc40"
      },
      "execution_count": 9,
      "outputs": [
        {
          "output_type": "stream",
          "name": "stdout",
          "text": [
            "Example rewards (train): [136700.  -6400. -14250.  28576.  -5000. -24175.]\n"
          ]
        }
      ]
    },
    {
      "cell_type": "markdown",
      "source": [
        "**Create MDP Dataset for d3rlpy**"
      ],
      "metadata": {
        "id": "x4RnL3T5iFmX"
      }
    },
    {
      "cell_type": "code",
      "source": [
        "def make_offline_dataset(X_array, rewards_array):\n",
        "    n = X_array.shape[0]\n",
        "\n",
        "    obs_approve = X_array.astype(np.float32)\n",
        "    acts_approve = np.ones((n,), dtype=np.int32)\n",
        "    rewards_approve = rewards_array.astype(np.float32)\n",
        "    terms_approve = np.ones((n,), dtype=bool)\n",
        "\n",
        "    obs_deny = X_array.astype(np.float32)\n",
        "    acts_deny = np.zeros((n,), dtype=np.int32)\n",
        "    rewards_deny = np.zeros((n,), dtype=np.float32)\n",
        "    terms_deny = np.ones((n,), dtype=bool)\n",
        "\n",
        "    obs = np.vstack([obs_approve, obs_deny])\n",
        "    acts = np.concatenate([acts_approve, acts_deny])\n",
        "    rewards = np.concatenate([rewards_approve, rewards_deny])\n",
        "    terms = np.concatenate([terms_approve, terms_deny])\n",
        "    return obs, acts, rewards, terms\n",
        "\n",
        "obs_train, acts_train, rew_train, terms_train = make_offline_dataset(X_train, rewards_train)\n",
        "obs_val, acts_val, rew_val, terms_val = make_offline_dataset(X_val, rewards_val)\n",
        "obs_test, acts_test, rew_test, terms_test = make_offline_dataset(X_test, rewards_test)\n",
        "\n",
        "print(\"Offline dataset sizes (train obs):\", obs_train.shape, acts_train.shape, rew_train.shape)\n"
      ],
      "metadata": {
        "colab": {
          "base_uri": "https://localhost:8080/"
        },
        "id": "8V_dB3fcEu8G",
        "outputId": "14377630-2239-40e1-bd27-f2ac73b51411"
      },
      "execution_count": 13,
      "outputs": [
        {
          "output_type": "stream",
          "name": "stdout",
          "text": [
            "Offline dataset sizes (train obs): (10934, 121) (10934,) (10934,)\n"
          ]
        }
      ]
    },
    {
      "cell_type": "code",
      "source": [
        "obs_rl = np.vstack([obs_train, obs_val])\n",
        "acts_rl = np.concatenate([acts_train, acts_val])\n",
        "rews_rl = np.concatenate([rew_train, rew_val])\n",
        "terms_rl = np.concatenate([terms_train, terms_val])\n",
        "\n",
        "mdp_dataset = MDPDataset(observations=obs_rl, actions=acts_rl, rewards=rews_rl, terminals=terms_rl)\n",
        "print(\"MDPDataset created. Num transitions:\", len(obs_rl))\n"
      ],
      "metadata": {
        "colab": {
          "base_uri": "https://localhost:8080/",
          "height": 193
        },
        "id": "My8AsGNWE1MA",
        "outputId": "73c70ae6-9be4-4294-960d-f37012c8c10a"
      },
      "execution_count": 14,
      "outputs": [
        {
          "output_type": "error",
          "ename": "NameError",
          "evalue": "name 'MDPDataset' is not defined",
          "traceback": [
            "\u001b[0;31m---------------------------------------------------------------------------\u001b[0m",
            "\u001b[0;31mNameError\u001b[0m                                 Traceback (most recent call last)",
            "\u001b[0;32m/tmp/ipython-input-2997090227.py\u001b[0m in \u001b[0;36m<cell line: 0>\u001b[0;34m()\u001b[0m\n\u001b[1;32m      4\u001b[0m \u001b[0mterms_rl\u001b[0m \u001b[0;34m=\u001b[0m \u001b[0mnp\u001b[0m\u001b[0;34m.\u001b[0m\u001b[0mconcatenate\u001b[0m\u001b[0;34m(\u001b[0m\u001b[0;34m[\u001b[0m\u001b[0mterms_train\u001b[0m\u001b[0;34m,\u001b[0m \u001b[0mterms_val\u001b[0m\u001b[0;34m]\u001b[0m\u001b[0;34m)\u001b[0m\u001b[0;34m\u001b[0m\u001b[0;34m\u001b[0m\u001b[0m\n\u001b[1;32m      5\u001b[0m \u001b[0;34m\u001b[0m\u001b[0m\n\u001b[0;32m----> 6\u001b[0;31m \u001b[0mmdp_dataset\u001b[0m \u001b[0;34m=\u001b[0m \u001b[0mMDPDataset\u001b[0m\u001b[0;34m(\u001b[0m\u001b[0mobservations\u001b[0m\u001b[0;34m=\u001b[0m\u001b[0mobs_rl\u001b[0m\u001b[0;34m,\u001b[0m \u001b[0mactions\u001b[0m\u001b[0;34m=\u001b[0m\u001b[0macts_rl\u001b[0m\u001b[0;34m,\u001b[0m \u001b[0mrewards\u001b[0m\u001b[0;34m=\u001b[0m\u001b[0mrews_rl\u001b[0m\u001b[0;34m,\u001b[0m \u001b[0mterminals\u001b[0m\u001b[0;34m=\u001b[0m\u001b[0mterms_rl\u001b[0m\u001b[0;34m)\u001b[0m\u001b[0;34m\u001b[0m\u001b[0;34m\u001b[0m\u001b[0m\n\u001b[0m\u001b[1;32m      7\u001b[0m \u001b[0mprint\u001b[0m\u001b[0;34m(\u001b[0m\u001b[0;34m\"MDPDataset created. Num transitions:\"\u001b[0m\u001b[0;34m,\u001b[0m \u001b[0mlen\u001b[0m\u001b[0;34m(\u001b[0m\u001b[0mobs_rl\u001b[0m\u001b[0;34m)\u001b[0m\u001b[0;34m)\u001b[0m\u001b[0;34m\u001b[0m\u001b[0;34m\u001b[0m\u001b[0m\n",
            "\u001b[0;31mNameError\u001b[0m: name 'MDPDataset' is not defined"
          ]
        }
      ]
    },
    {
      "cell_type": "markdown",
      "source": [
        "**Train a CQL (Conservative Q Learning) agent**"
      ],
      "metadata": {
        "id": "GI9pcTxniLeE"
      }
    },
    {
      "cell_type": "code",
      "source": [
        "from d3rlpy.algos import DiscreteCQLConfig\n",
        "from d3rlpy.models.encoders import VectorEncoderFactory\n",
        "import torch\n",
        "\n",
        "cql_config = DiscreteCQLConfig(\n",
        "    learning_rate=1e-3,\n",
        "    batch_size=256,\n",
        "    encoder_factory=VectorEncoderFactory(hidden_units=[256, 256]),\n",
        ")\n",
        "\n",
        "device = \"cuda\" if torch.cuda.is_available() else \"cpu\"\n",
        "cql = cql_config.create(device=device)\n",
        "\n",
        "cql.fit(\n",
        "    mdp_dataset,\n",
        "    n_steps=100000,\n",
        ")\n",
        "\n",
        "cql.save_model(\"discrete_cql_model\")\n"
      ],
      "metadata": {
        "id": "kfn0OYXUE5Fx"
      },
      "execution_count": null,
      "outputs": []
    },
    {
      "cell_type": "markdown",
      "source": [
        "**Task 4: Evaluation & Comparison**"
      ],
      "metadata": {
        "id": "dGVdDn28iPbU"
      }
    },
    {
      "cell_type": "code",
      "source": [
        "rl_actions = cql.predict(X_test.astype(np.float32))\n",
        "rl_actions = np.array(rl_actions).astype(int)\n",
        "\n",
        "est_rewards_rl = np.where(rl_actions == 1, rewards_test, 0.0)\n",
        "estimated_value_rl = est_rewards_rl.mean()\n",
        "print(f\"RL policy estimated average reward per loan (test): {estimated_value_rl:.4f}\")\n",
        "print(f\"Total expected profit on test (sum): {est_rewards_rl.sum():.2f} over {len(est_rewards_rl)} loans\")\n"
      ],
      "metadata": {
        "id": "Q5NnlE8-H4TX"
      },
      "execution_count": null,
      "outputs": []
    },
    {
      "cell_type": "code",
      "source": [
        "model.eval()\n",
        "with torch.no_grad():\n",
        "    val_logits = model(torch.tensor(X_val, dtype=torch.float32).to(device)).cpu().numpy()\n",
        "val_probs = 1.0/(1.0+np.exp(-val_logits))\n",
        "\n",
        "thresholds = np.linspace(0.0, 1.0, 101)\n",
        "best_tau = None\n",
        "best_value = -1e12\n",
        "for tau in thresholds:\n",
        "    actions = (val_probs < tau).astype(int)\n",
        "    est_rewards = np.where(actions == 1, rewards_val, 0.0)\n",
        "    val = est_rewards.mean()\n",
        "    if val > best_value:\n",
        "        best_value = val\n",
        "        best_tau = tau\n",
        "\n",
        "print(\"Best validation threshold (max expected reward):\", best_tau, \"value:\", best_value)\n",
        "\n",
        "with torch.no_grad():\n",
        "    test_logits = model(torch.tensor(X_test, dtype=torch.float32).to(device)).cpu().numpy()\n",
        "test_probs = 1.0/(1.0+np.exp(-test_logits))\n",
        "supervised_actions_test = (test_probs < best_tau).astype(int)\n",
        "est_rewards_supervised = np.where(supervised_actions_test == 1, rewards_test, 0.0)\n",
        "estimated_value_supervised = est_rewards_supervised.mean()\n",
        "print(\"Supervised policy estimated avg reward (test):\", estimated_value_supervised)\n",
        "print(\"Supervised policy AUC (test):\", test_auc, \"F1 (0.5 threshold):\", test_f1)\n"
      ],
      "metadata": {
        "id": "RV4yKLVrf49m"
      },
      "execution_count": null,
      "outputs": []
    },
    {
      "cell_type": "code",
      "source": [
        "always_approve_value = rewards_test.mean()\n",
        "always_deny_value = 0.0\n",
        "print(\"Always approve average reward:\", always_approve_value)\n",
        "print(\"Always deny average reward:\", always_deny_value)"
      ],
      "metadata": {
        "id": "p4qYvUUMf-0_"
      },
      "execution_count": null,
      "outputs": []
    },
    {
      "cell_type": "markdown",
      "source": [
        "**Examples where policies differ**"
      ],
      "metadata": {
        "id": "kdJdTwacila-"
      }
    },
    {
      "cell_type": "code",
      "source": [
        "test_df = X_test_df.reset_index(drop=True).copy()\n",
        "inspection = test_df.copy()\n",
        "inspection['y_true'] = y_test\n",
        "inspection['loan_amnt'] = loanamnt_test\n",
        "inspection['int_rate'] = int_rate_test\n",
        "inspection['reward_if_approve'] = rewards_test\n",
        "inspection['supervised_action'] = supervised_actions_test\n",
        "inspection['rl_action'] = rl_actions\n",
        "inspection['supervised_prob_default'] = test_probs\n",
        "\n",
        "disagree = inspection[inspection['supervised_action'] != inspection['rl_action']]\n",
        "print(\"Number of disagreements on test:\", len(disagree))\n",
        "display(disagree.head(8))\n"
      ],
      "metadata": {
        "id": "i8QdOAk7gFJn"
      },
      "execution_count": null,
      "outputs": []
    },
    {
      "cell_type": "code",
      "source": [],
      "metadata": {
        "id": "srKsXVP_gOzA"
      },
      "execution_count": null,
      "outputs": []
    }
  ]
}